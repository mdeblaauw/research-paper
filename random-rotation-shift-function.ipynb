{
 "cells": [
  {
   "cell_type": "code",
   "execution_count": null,
   "metadata": {
    "collapsed": true
   },
   "outputs": [],
   "source": [
    "import scipy.misc\n",
    "import numpy as np"
   ]
  },
  {
   "cell_type": "markdown",
   "metadata": {},
   "source": [
    "Random rotation and shift on test dataset"
   ]
  },
  {
   "cell_type": "code",
   "execution_count": null,
   "metadata": {
    "collapsed": true
   },
   "outputs": [],
   "source": [
    "images = test_set[0].shape[0]\n",
    "for i in range(2):\n",
    "    for j in range(images):\n",
    "        img = test_set[i][j,:,:,0]\n",
    "        shift = np.random.randint(low=-10, high=10,size=2)\n",
    "        degrees = np.random.uniform(low=-120, high=120)\n",
    "        img2 = ndimage.rotate(img, degrees, reshape=False, cval = 255, order=0)\n",
    "        new_img = ndimage.shift(img2, shift,  cval = 255, order=0)\n",
    "        test_set[i][j,:,:,0] = new_img"
   ]
  },
  {
   "cell_type": "code",
   "execution_count": null,
   "metadata": {
    "collapsed": true
   },
   "outputs": [],
   "source": []
  },
  {
   "cell_type": "code",
   "execution_count": null,
   "metadata": {
    "collapsed": true
   },
   "outputs": [],
   "source": [
    "def distance_edge(image):\n",
    "    x_axis = image.min(axis=0)\n",
    "    y_axis = image.min(axis=1)\n",
    "    \n",
    "    range_x = np.where(x_axis<=10)[0]\n",
    "    range_y = np.where(y_axis<=10)[0]\n",
    "    \n",
    "    x_min = range_x.min()\n",
    "    x_max = 105 - range_x.max()\n",
    "    y_min = range_y.min()\n",
    "    y_max = 105 - range_y.max()\n",
    "    \n",
    "    return(x_min, x_max, y_min, y_max)"
   ]
  },
  {
   "cell_type": "code",
   "execution_count": null,
   "metadata": {
    "collapsed": true
   },
   "outputs": [],
   "source": [
    "from skimage.transform import warp, AffineTransform\n",
    "from scipy import ndimage"
   ]
  },
  {
   "cell_type": "code",
   "execution_count": null,
   "metadata": {
    "collapsed": true
   },
   "outputs": [],
   "source": [
    "images = test_set[0].shape[0]\n",
    "for i in range(2):\n",
    "    for j in range(images):\n",
    "        img = test_set[i][j,:,:,0]\n",
    "        degrees = np.random.uniform(low=-20, high=20)\n",
    "        img2 = ndimage.rotate(img, degrees, reshape=False, cval = 255, order=0)\n",
    "        \n",
    "        shear = np.random.uniform(low=-0.4, high=0.4)\n",
    "        tform = AffineTransform(shear=shear, translation=(shear*5,0))\n",
    "        img3 = warp(img2, tform, cval=255)\n",
    "        \n",
    "        x_min, x_max, y_min, y_max = distance_edge(img3)\n",
    "        if np.random.uniform(0,1) < 0.5:\n",
    "            if x_min <= 2:\n",
    "                shift_x = 0\n",
    "            else:\n",
    "                shift_x = np.random.randint(low=-x_min + 2, high=0,size=1)\n",
    "        else:\n",
    "            if x_max <= 2:\n",
    "                x_max = 0\n",
    "            else:\n",
    "                shift_x = np.random.randint(low=0, high=x_max - 2,size=1)\n",
    "        if np.random.uniform(0,1) < 0.5:\n",
    "            if y_min <= 2:\n",
    "                y_min = 0\n",
    "            else:\n",
    "                shift_y = np.random.randint(low=-y_min + 2, high=0,size=1)\n",
    "        else:\n",
    "            if y_max <= 2:\n",
    "                y_max = 0\n",
    "            else:\n",
    "                shift_y = np.random.randint(low=0, high=y_max - 2,size=1)\n",
    "        new_img = ndimage.shift(img3, [shift_y, shift_x],  cval = 255, order=0)\n",
    "        \n",
    "        test_set[i][j,:,:,0] = new_img"
   ]
  }
 ],
 "metadata": {
  "kernelspec": {
   "display_name": "Python [conda env:anaconda3]",
   "language": "python",
   "name": "conda-env-anaconda3-py"
  },
  "language_info": {
   "codemirror_mode": {
    "name": "ipython",
    "version": 3
   },
   "file_extension": ".py",
   "mimetype": "text/x-python",
   "name": "python",
   "nbconvert_exporter": "python",
   "pygments_lexer": "ipython3",
   "version": "3.6.6"
  }
 },
 "nbformat": 4,
 "nbformat_minor": 2
}
