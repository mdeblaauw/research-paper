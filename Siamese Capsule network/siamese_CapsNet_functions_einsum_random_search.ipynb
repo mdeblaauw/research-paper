{
 "cells": [
  {
   "cell_type": "code",
   "execution_count": 1,
   "metadata": {},
   "outputs": [
    {
     "name": "stderr",
     "output_type": "stream",
     "text": [
      "/home/ec2-user/anaconda3/envs/tensorflow_p36/lib/python3.6/site-packages/h5py/__init__.py:36: FutureWarning: Conversion of the second argument of issubdtype from `float` to `np.floating` is deprecated. In future, it will be treated as `np.float64 == np.dtype(float).type`.\n",
      "  from ._conv import register_converters as _register_converters\n"
     ]
    }
   ],
   "source": [
    "import numpy as np\n",
    "import tensorflow as tf\n",
    "import os\n",
    "import pickle\n",
    "import numpy.random as rnd\n",
    "from sklearn.utils import shuffle"
   ]
  },
  {
   "cell_type": "markdown",
   "metadata": {},
   "source": [
    "## Load in data"
   ]
  },
  {
   "cell_type": "code",
   "execution_count": 2,
   "metadata": {
    "collapsed": true
   },
   "outputs": [],
   "source": [
    "import pickle\n",
    "import boto3\n",
    "from io import BytesIO"
   ]
  },
  {
   "cell_type": "code",
   "execution_count": 3,
   "metadata": {
    "collapsed": true
   },
   "outputs": [],
   "source": [
    "s3 = boto3.resource('s3')\n",
    "data_subsets = ['train', 'val']\n",
    "data = {}\n",
    "\n",
    "for name in data_subsets:\n",
    "    with BytesIO() as files:\n",
    "        path = \"omniglot_images/\" +name+ \".pickle\"\n",
    "        s3.Bucket(\"research-paper-omniglot-data\").download_fileobj(path, files)\n",
    "        files.seek(0)    # move back to the beginning after writing\n",
    "        (X,c) = pickle.load(files)\n",
    "        data[name] = X"
   ]
  },
  {
   "cell_type": "markdown",
   "metadata": {},
   "source": [
    "path = '../omniglot_images/'\n",
    "data_subsets = [\"train\", \"val\", \"test\"]\n",
    "\n",
    "data = {}\n",
    "categories = {}\n",
    "info = {}\n",
    "        \n",
    "for name in data_subsets:\n",
    "    file_path = os.path.join(path, name + \".pickle\")\n",
    "    print(\"loading data from {}\".format(file_path))\n",
    "    with open(file_path,\"rb\") as f:\n",
    "        (X,c) = pickle.load(f)\n",
    "        data[name] = X\n",
    "        categories[name] = c"
   ]
  },
  {
   "cell_type": "code",
   "execution_count": 4,
   "metadata": {
    "collapsed": true
   },
   "outputs": [],
   "source": [
    "def create_train_data(size, s='train'):\n",
    "    #get train data and shape\n",
    "    X=data[s]\n",
    "    n_classes, n_examples, w, h = X.shape\n",
    "    \n",
    "    #initialize 2 empty arrays for the input size in a list\n",
    "    pairs=[np.zeros((size, h, w,1)) for i in range(2)]\n",
    "    \n",
    "    #initialize vector for the targets\n",
    "    targets=np.zeros((size,1))\n",
    "    \n",
    "    for x in range(size):\n",
    "        #randomly sample one class (character)\n",
    "        category = rnd.choice(n_classes,1,replace=False)\n",
    "        #randomly sample one example from class (1-20 characters)\n",
    "        idx_1 = rnd.randint(0, n_examples)\n",
    "        pairs[0][x,:,:,:] = X[category, idx_1].reshape(w, h, 1)\n",
    "        #randomly sample again one example from class and add last class with modulo\n",
    "        # ..to ensure not same class pairs are created\n",
    "        idx_2 = (idx_1 + rnd.randint(0, n_examples)) % n_examples\n",
    "        #pick images of different class for 1st half and same class for 2nd half\n",
    "        if x >= size // 2:\n",
    "            category_2 = category\n",
    "            targets[x] = 1\n",
    "        else: \n",
    "        #add a random number to the category modulo n classes to ensure 2nd image has\n",
    "        # ..different category\n",
    "            idx_2 = rnd.randint(0, n_examples) \n",
    "            category_2 = (category + rnd.randint(1,n_classes)) % n_classes\n",
    "            targets[x] = 0\n",
    "        pairs[1][x,:,:,:] = X[category_2,idx_2].reshape(w, h,1)\n",
    "        \n",
    "    return pairs, targets"
   ]
  },
  {
   "cell_type": "code",
   "execution_count": 5,
   "metadata": {
    "collapsed": true
   },
   "outputs": [],
   "source": [
    "train_set, train_labels = create_train_data(10000)\n",
    "val_set, val_labels = create_train_data(3000)"
   ]
  },
  {
   "cell_type": "markdown",
   "metadata": {},
   "source": [
    "## Functions"
   ]
  },
  {
   "cell_type": "code",
   "execution_count": 6,
   "metadata": {
    "collapsed": true
   },
   "outputs": [],
   "source": [
    "def loguniform(low=0, high=1, size=None, base=np.exp(1)):\n",
    "    return(np.power(base, np.random.uniform(np.log(low), np.log(high), size)))"
   ]
  },
  {
   "cell_type": "code",
   "execution_count": 7,
   "metadata": {
    "collapsed": true
   },
   "outputs": [],
   "source": [
    "def uniform_sample(low=0, high=1, size=None):\n",
    "    return(np.random.uniform(low, high, size))"
   ]
  },
  {
   "cell_type": "code",
   "execution_count": 8,
   "metadata": {
    "collapsed": true
   },
   "outputs": [],
   "source": [
    "#returns random integer from discrete uniform distribution with closed interval [low,high]\n",
    "def random_integer(low=0, high=10, size=None):\n",
    "    return(np.random.randint(low, high + 1, size))"
   ]
  },
  {
   "cell_type": "code",
   "execution_count": 9,
   "metadata": {
    "collapsed": true
   },
   "outputs": [],
   "source": [
    "def categorical_random(input_vector, size=None):\n",
    "    return(np.random.choice(input_vector))"
   ]
  },
  {
   "cell_type": "markdown",
   "metadata": {},
   "source": [
    "## Squash function"
   ]
  },
  {
   "cell_type": "code",
   "execution_count": 10,
   "metadata": {
    "collapsed": true
   },
   "outputs": [],
   "source": [
    "def squash(input_vector, axis):\n",
    "    normalised_input = tf.reduce_sum(tf.square(input_vector), axis = axis, keepdims = True)\n",
    "    scale = tf.divide(normalised_input, tf.add(normalised_input, 1.))\n",
    "    vector = tf.divide(input_vector, tf.sqrt(tf.add(normalised_input, epsilon)))\n",
    "    output = tf.multiply(scale, vector)\n",
    "    \n",
    "    return(output)"
   ]
  },
  {
   "cell_type": "markdown",
   "metadata": {},
   "source": [
    "## Convolutional layer"
   ]
  },
  {
   "cell_type": "code",
   "execution_count": 11,
   "metadata": {
    "collapsed": true
   },
   "outputs": [],
   "source": [
    "def convolutional(input_data, conv_shape, stride_shape, name, relu=True):\n",
    "    weights = tf.get_variable('W'+name, initializer=tf.truncated_normal(conv_shape, stddev=0.3))\n",
    "    bias = tf.get_variable('B'+name, initializer=tf.truncated_normal([conv_shape[-1]], stddev=0.3))\n",
    "    out_layer = tf.nn.conv2d(input_data, weights, stride_shape, padding = 'VALID')\n",
    "    out_layer_bias = tf.add(out_layer, bias)\n",
    "    \n",
    "    if relu == True:\n",
    "        out_layer_final = tf.nn.relu(out_layer_bias)\n",
    "        return(out_layer_final)\n",
    "    \n",
    "    return(out_layer_bias)"
   ]
  },
  {
   "cell_type": "markdown",
   "metadata": {},
   "source": [
    "## Primarycaps"
   ]
  },
  {
   "cell_type": "code",
   "execution_count": 12,
   "metadata": {
    "collapsed": true
   },
   "outputs": [],
   "source": [
    "def primarycaps(input_data, conv_shape, stride_shape, primaryCaps_channels, caps1_size, caps2_size, pose_size, batch):\n",
    "    output = convolutional(input_data, conv_shape, stride_shape, relu=False, name='primaryCaps')\n",
    "    filter_size = output.get_shape().as_list()[1]\n",
    "    caps1_raw = tf.reshape(output, [-1,filter_size*filter_size*primaryCaps_channels,caps1_size], name='caps1_raw')\n",
    "    caps1_output = squash(caps1_raw, axis=-1)\n",
    "    caps1_output_expand = tf.expand_dims(caps1_output, axis=-1)\n",
    "    caps1_output_expand2 = tf.expand_dims(caps1_output_expand, axis=2)\n",
    "    caps1_output_expand2_tiled = tf.tile(caps1_output_expand2, [1,1,caps2_size,1,1], name = 'caps1_out_tiled')\n",
    "    \n",
    "    weight_matrix = tf.get_variable('Weight_matrix', initializer=tf.truncated_normal([filter_size*filter_size*primaryCaps_channels, caps2_size, pose_size, caps1_size], stddev=0.1))\n",
    "    #weight_matrix_tiled = tf.tile(weight_matrix, [batch, 1, 1, 1, 1], name = 'W_matrix_tiled')\n",
    "    #caps2_predicted = tf.matmul(weight_matrix_tiled, caps1_output_expand2_tiled, name='caps2_predicted')\n",
    "    caps2_predicted = tf.einsum('abdc,iabcf->iabdf', weight_matrix, caps1_output_expand2_tiled)\n",
    "    \n",
    "    return(caps2_predicted)"
   ]
  },
  {
   "cell_type": "markdown",
   "metadata": {},
   "source": [
    "## Routing by agreement"
   ]
  },
  {
   "cell_type": "code",
   "execution_count": 13,
   "metadata": {
    "collapsed": true
   },
   "outputs": [],
   "source": [
    "def routing_by_agreement(input_data, caps2_size, rounds, batch):\n",
    "    raw_weights = tf.zeros([batch, input_data.get_shape().as_list()[1], caps2_size, 1, 1], name = 'raw_weights')\n",
    "    \n",
    "    for i in range(rounds):\n",
    "        routing_weights = tf.nn.softmax(raw_weights, axis=2, name = 'routing_weights' + str(i))\n",
    "        weighted_predictions = tf.multiply(routing_weights, input_data, name = 'weighted_predictions' + str(i))\n",
    "        weighted_sum = tf.reduce_sum(weighted_predictions, axis=1, name = 'weighted_sum' + str(i), keepdims = True)\n",
    "        caps2_output = squash(weighted_sum, axis=-2)\n",
    "    \n",
    "        #caps2_output_tiled = tf.tile(caps2_output, [1, input_data.get_shape().as_list()[1], 1, 1, 1], name = 'caps2_output_tiled'+ str(i))\n",
    "        #agreement = tf.matmul(input_data, caps2_output_tiled, transpose_a = True, name = 'agreement'+ str(i))\n",
    "        agreement = tf.einsum('iabcd,ifbcd->iabcd', input_data, caps2_output)\n",
    "        raw_weights = tf.add(raw_weights, agreement, name = 'raw_weights' + str(i))\n",
    "        \n",
    "    return(caps2_output)"
   ]
  },
  {
   "cell_type": "code",
   "execution_count": 14,
   "metadata": {
    "collapsed": true
   },
   "outputs": [],
   "source": [
    "def create_dense_layer(input_data, input_shape, neurons, name):\n",
    "    weights = tf.get_variable(name+'_W', initializer=tf.truncated_normal([input_shape, neurons], stddev=0.2))\n",
    "    bias = tf.get_variable(name+'b', initializer=tf.truncated_normal([neurons], mean=0.5, stddev=0.02))\n",
    "    fully_connected = tf.add(tf.matmul(input_data, weights), bias)\n",
    "    out_dense_activation = tf.nn.sigmoid(fully_connected)\n",
    "    \n",
    "    return(out_dense_activation)"
   ]
  },
  {
   "cell_type": "markdown",
   "metadata": {},
   "source": [
    "## Graph"
   ]
  },
  {
   "cell_type": "code",
   "execution_count": 15,
   "metadata": {
    "collapsed": true
   },
   "outputs": [],
   "source": [
    "def create_network(caps1_size, caps2_size,pred_matrix_size,conv1_channels,conv1_filter,primaryCaps_channels,primaryCaps_filter,routing_rounds,X,fully_layer_size,stride_conv1,stride_conv2):\n",
    "    conv1 = convolutional(X, [conv1_filter,conv1_filter,X.get_shape().as_list()[-1],\n",
    "                                  conv1_channels],[1,stride_conv1,stride_conv1,1], name='conv')\n",
    "    primary = primarycaps(conv1, [primaryCaps_filter,primaryCaps_filter,conv1.get_shape().as_list()[-1],\n",
    "                              primaryCaps_channels*caps1_size], [1,stride_conv2,stride_conv2,1],primaryCaps_channels,\n",
    "                      caps1_size,caps2_size, pred_matrix_size, batch=tf.shape(X)[0])\n",
    "    output = routing_by_agreement(primary, caps2_size, routing_rounds, batch=tf.shape(X)[0])\n",
    "    flat = tf.reshape(output, [-1, caps2_size*pred_matrix_size])\n",
    "    fully_connected = create_dense_layer(flat, caps2_size*pred_matrix_size , fully_layer_size, 'fully')\n",
    "    \n",
    "    return(fully_connected)"
   ]
  },
  {
   "cell_type": "code",
   "execution_count": 16,
   "metadata": {
    "collapsed": true
   },
   "outputs": [],
   "source": [
    "def create_graph(learning_rate,beta1,beta2,caps1_size,caps2_size,pred_matrix_size,conv1_channels,conv1_filter,primaryCaps_channels,primaryCaps_filter,routing_rounds,fully_layer_size,stride_conv1,stride_conv2):\n",
    "    X1 = tf.placeholder(tf.float32, [None, 105, 105, 1])\n",
    "    X2 = tf.placeholder(tf.float32, [None, 105, 105, 1])\n",
    "    y = tf.placeholder(tf.float32, [None, 1])\n",
    "\n",
    "    with tf.variable_scope('siamese') as scope:\n",
    "        output1 = create_network(caps1_size, caps2_size,pred_matrix_size,conv1_channels,conv1_filter,primaryCaps_channels,primaryCaps_filter,routing_rounds,X1,fully_layer_size,stride_conv1,stride_conv2)\n",
    "        scope.reuse_variables()\n",
    "        output2 = create_network(caps1_size, caps2_size,pred_matrix_size,conv1_channels,conv1_filter,primaryCaps_channels,primaryCaps_filter,routing_rounds,X2,fully_layer_size,stride_conv1,stride_conv2)\n",
    "\n",
    "    l1_dis = tf.abs(tf.subtract(output1, output2))\n",
    "\n",
    "    weights = tf.Variable(tf.truncated_normal([fully_layer_size, 1], stddev=0.03), name='w_final')\n",
    "    bias = tf.Variable(tf.truncated_normal([1], stddev=0.01), name='b_final')\n",
    "    fully_final = tf.add(tf.matmul(l1_dis, weights), bias)\n",
    "    y_estimate = tf.nn.sigmoid(fully_final)\n",
    "\n",
    "    cross_entropy = tf.reduce_mean(tf.nn.sigmoid_cross_entropy_with_logits(labels = y, logits = fully_final))\n",
    "    optimiser = tf.train.AdamOptimizer(learning_rate = learning_rate, beta1=beta1, beta2=beta2).minimize(cross_entropy)\n",
    "    \n",
    "    correct_prediction = tf.equal(tf.round(y_estimate), y)\n",
    "    accuracy = tf.reduce_mean(tf.cast(correct_prediction, dtype = tf.float32))\n",
    "    \n",
    "    return(optimiser, cross_entropy, accuracy, X1, X2, y)"
   ]
  },
  {
   "cell_type": "markdown",
   "metadata": {},
   "source": [
    "## Tensor checker"
   ]
  },
  {
   "cell_type": "code",
   "execution_count": 17,
   "metadata": {
    "collapsed": true
   },
   "outputs": [],
   "source": [
    "def check_size(batch_size,conv1_filter,stride_conv1,primaryCaps_filter,stride_conv2,primaryCaps_channels,caps1_size,caps2_size,pred_matrix_size):\n",
    "    conv1_output_filter = np.floor((105-conv1_filter)/stride_conv1 + 1)\n",
    "    conv2_output_filter = np.floor((conv1_output_filter - primaryCaps_filter)/stride_conv2 + 1)\n",
    "    size_tensor = batch_size*conv2_output_filter*conv2_output_filter*primaryCaps_channels*caps2_size*pred_matrix_size*caps1_size\n",
    "    size_tensor2 = conv2_output_filter*conv2_output_filter*primaryCaps_channels\n",
    "    print('tensor1:',size_tensor)\n",
    "    print('tensor2:',size_tensor2)\n",
    "    if (size_tensor <= 900000000) & (size_tensor2 <= 4096):\n",
    "        return(True)\n",
    "    else:\n",
    "        return(False)"
   ]
  },
  {
   "cell_type": "markdown",
   "metadata": {},
   "source": [
    "## Setup training"
   ]
  },
  {
   "cell_type": "code",
   "execution_count": 18,
   "metadata": {
    "collapsed": true
   },
   "outputs": [],
   "source": [
    "learning_rate = 0.1\n",
    "beta1 = 0.999\n",
    "beta2 = 0.999\n",
    "caps1_size = 4\n",
    "caps2_size = 16\n",
    "pred_matrix_size = 16\n",
    "conv1_channels = 16\n",
    "conv1_filter = 3\n",
    "primaryCaps_channels = 16\n",
    "primaryCaps_filter = 3\n",
    "routing_rounds = 1\n",
    "fully_layer_size = 16\n",
    "stride_conv1 = 1\n",
    "stride_conv2 = 1\n",
    "batch_size = 32\n",
    "\n",
    "settings = {'iteration' : 0,\n",
    "            'validation_accuracy' : 0,\n",
    "            'learning_rate' : 0.1,\n",
    "           'beta1' : 0.999,\n",
    "           'beta2' : 0.999,\n",
    "           'caps1_size' : 4,\n",
    "           'caps2_size' : 16,\n",
    "           'pred_matrix_size' : 16,\n",
    "           'conv1_channels' : 16,\n",
    "           'conv1_filter' : 3,\n",
    "           'primaryCaps_channels' : 16,\n",
    "           'primaryCaps_filter' : 3,\n",
    "           'routing_rounds' : 1,\n",
    "           'fully_layer_size' : 16,\n",
    "           'stride_conv1' : 1,\n",
    "           'stride_conv2' : 1,\n",
    "           'batch_size' : 32}"
   ]
  },
  {
   "cell_type": "code",
   "execution_count": 19,
   "metadata": {},
   "outputs": [
    {
     "name": "stdout",
     "output_type": "stream",
     "text": [
      "tensor1: 28311552.0\n",
      "tensor2: 576.0\n",
      "epoch: 0\n",
      "avg_cost: 0.693281058890697\n",
      "train_acc: 0.491786858974359\n",
      "val_acc: 0.48219086021505375\n",
      "epoch: 1\n",
      "avg_cost: 0.6932252876651588\n",
      "train_acc: 0.49589342948717946\n",
      "val_acc: 0.5157930107526881\n",
      "epoch: 2\n",
      "avg_cost: 0.693117543481863\n",
      "train_acc: 0.5038060897435898\n",
      "val_acc: 0.5023521505376344\n",
      "epoch: 3\n",
      "avg_cost: 0.6931143504304759\n",
      "train_acc: 0.5040064102564102\n",
      "val_acc: 0.48823924731182794\n",
      "epoch: 4\n",
      "avg_cost: 0.6931457957014059\n",
      "train_acc: 0.5017027243589743\n",
      "val_acc: 0.501008064516129\n",
      "epoch: 5\n",
      "avg_cost: 0.6931045666719091\n",
      "train_acc: 0.504707532051282\n",
      "val_acc: 0.48185483870967744\n",
      "epoch: 6\n",
      "avg_cost: 0.6931476724835544\n",
      "train_acc: 0.5015024038461539\n",
      "val_acc: 0.5060483870967742\n",
      "epoch: 7\n",
      "avg_cost: 0.693168065295769\n",
      "train_acc: 0.5\n",
      "val_acc: 0.4946236559139785\n",
      "epoch: 8\n",
      "avg_cost: 0.6931443556379054\n",
      "train_acc: 0.5017027243589743\n",
      "val_acc: 0.5047043010752689\n",
      "epoch: 9\n",
      "avg_cost: 0.6932387976692276\n",
      "train_acc: 0.4946915064102564\n",
      "val_acc: 0.4801747311827957\n",
      "tensor1: 1207959552.0\n",
      "tensor2: 16384.0\n",
      "tensor1: 509607936.0\n",
      "tensor2: 3888.0\n",
      "epoch: 0\n",
      "avg_cost: 0.6742557707505349\n",
      "train_acc: 0.5606971153846154\n",
      "val_acc: 0.563858695652174\n",
      "epoch: 1\n",
      "avg_cost: 0.6389537766957895\n",
      "train_acc: 0.633613782051282\n",
      "val_acc: 0.6216032608695652\n",
      "epoch: 2\n",
      "avg_cost: 0.6103241011882439\n",
      "train_acc: 0.6969150641025641\n",
      "val_acc: 0.6688179347826086\n",
      "epoch: 3\n",
      "avg_cost: 0.5745624899864196\n",
      "train_acc: 0.7451923076923077\n",
      "val_acc: 0.7000679347826086\n",
      "epoch: 4\n",
      "avg_cost: 0.5397612328330675\n",
      "train_acc: 0.7763421474358975\n",
      "val_acc: 0.7112771739130435\n",
      "epoch: 5\n",
      "avg_cost: 0.5017512190418365\n",
      "train_acc: 0.8166065705128205\n",
      "val_acc: 0.7126358695652174\n",
      "epoch: 6\n",
      "avg_cost: 0.46480620423188557\n",
      "train_acc: 0.8427483974358975\n",
      "val_acc: 0.7319972826086957\n",
      "epoch: 7\n",
      "avg_cost: 0.4211760354347718\n",
      "train_acc: 0.8672876602564102\n",
      "val_acc: 0.7136548913043478\n",
      "epoch: 8\n",
      "avg_cost: 0.38261934293386246\n",
      "train_acc: 0.885917467948718\n",
      "val_acc: 0.7255434782608695\n",
      "epoch: 9\n",
      "avg_cost: 0.3435885562346533\n",
      "train_acc: 0.9073517628205128\n",
      "val_acc: 0.7248641304347826\n",
      "tensor1: 1207959552.0\n",
      "tensor2: 49152.0\n",
      "tensor1: 2123366400.0\n",
      "tensor2: 10800.0\n",
      "tensor1: 416022528.0\n",
      "tensor2: 16928.0\n",
      "tensor1: 6056574976.0\n",
      "tensor2: 46208.0\n",
      "tensor1: 56623104.0\n",
      "tensor2: 432.0\n",
      "epoch: 0\n",
      "avg_cost: 0.6931473112259157\n",
      "train_acc: 0.5004006410256411\n",
      "val_acc: 0.49260752688172044\n",
      "epoch: 1\n",
      "avg_cost: 0.6931709354886638\n",
      "train_acc: 0.492588141025641\n",
      "val_acc: 0.5067204301075269\n",
      "epoch: 2\n",
      "avg_cost: 0.6931219635865625\n",
      "train_acc: 0.5089142628205128\n",
      "val_acc: 0.4915994623655914\n",
      "epoch: 3\n",
      "avg_cost: 0.6931751477412688\n",
      "train_acc: 0.4908854166666667\n",
      "val_acc: 0.5063844086021505\n",
      "epoch: 4\n",
      "avg_cost: 0.6931727008941845\n",
      "train_acc: 0.49168669871794873\n",
      "val_acc: 0.5033602150537635\n",
      "epoch: 5\n",
      "avg_cost: 0.693149081407449\n",
      "train_acc: 0.4990985576923077\n",
      "val_acc: 0.48151881720430106\n",
      "epoch: 6\n",
      "avg_cost: 0.6931542687309096\n",
      "train_acc: 0.4972956730769231\n",
      "val_acc: 0.520497311827957\n",
      "epoch: 7\n",
      "avg_cost: 0.693158689599771\n",
      "train_acc: 0.4957932692307692\n",
      "val_acc: 0.5141129032258065\n",
      "epoch: 8\n",
      "avg_cost: 0.6931347535588801\n",
      "train_acc: 0.5033052884615384\n",
      "val_acc: 0.501008064516129\n",
      "epoch: 9\n",
      "avg_cost: 0.6931370964799173\n",
      "train_acc: 0.5026041666666666\n",
      "val_acc: 0.5047043010752689\n"
     ]
    }
   ],
   "source": [
    "random_search_iterations = 3\n",
    "epochs = 10\n",
    "epsilon = 1e-7\n",
    "best_acc_val = 0\n",
    "\n",
    "#If run on AWS\n",
    "config = tf.ConfigProto(allow_soft_placement=True)\n",
    "config.gpu_options.allocator_type = 'BFC'\n",
    "config.gpu_options.allow_growth=True\n",
    "\n",
    "\n",
    "for i in range(random_search_iterations):\n",
    "    \n",
    "    size_tensor = False\n",
    "    \n",
    "    while not size_tensor:\n",
    "        learning_rate = loguniform(1e-5, 0.1)\n",
    "        beta1 = uniform_sample(0.,1.)\n",
    "        beta2 = uniform_sample(0.,1.)\n",
    "        caps1_size = categorical_random([8])\n",
    "        caps2_size = categorical_random([16,32,48,64])\n",
    "        pred_matrix_size = categorical_random([16])\n",
    "        conv1_channels = categorical_random([16,32,48,64,80,96,112,128,144,160,176,192,208,224,240,256])\n",
    "        conv1_filter = random_integer(3,35)\n",
    "        primaryCaps_channels = categorical_random([16,32,48,64])\n",
    "        primaryCaps_filter = random_integer(3,20)\n",
    "        routing_rounds = random_integer(1,5)\n",
    "        fully_layer_size = categorical_random([16,32,48,64,80,96,112,128,144,160,176,192,208,224,240,256])\n",
    "        stride_conv1 = random_integer(1,3)\n",
    "        stride_conv2 = random_integer(1,3)\n",
    "        batch_size = categorical_random([64])\n",
    "        size_tensor = check_size(batch_size,conv1_filter,stride_conv1,primaryCaps_filter,stride_conv2,primaryCaps_channels,caps1_size,caps2_size,pred_matrix_size)\n",
    "        \n",
    "    optimiser, cross_entropy, accuracy, X1, X2, y = create_graph(learning_rate,beta1,beta2,caps1_size,caps2_size,pred_matrix_size,conv1_channels,conv1_filter,primaryCaps_channels,primaryCaps_filter,routing_rounds,fully_layer_size,stride_conv1,stride_conv2)\n",
    "    init_op = tf.global_variables_initializer()\n",
    "    \n",
    "    with tf.Session(config=config) as sess:\n",
    "        init_op.run()\n",
    "\n",
    "        total_batch = int(10000/batch_size)\n",
    "        total_batch_val = int(3000/batch_size)\n",
    "\n",
    "        for epoch in range(epochs):\n",
    "            avg_cost = 0\n",
    "            acc = 0\n",
    "            for i in range(total_batch):\n",
    "                batch_x1, batch_x2, batch_y = shuffle(train_set[0],train_set[1], train_labels, n_samples = batch_size)\n",
    "                a, c, accur= sess.run([optimiser, cross_entropy, accuracy], feed_dict={X1: batch_x1, X2: batch_x2, y: batch_y})\n",
    "                avg_cost += c/total_batch\n",
    "                acc += accur\n",
    "            print('epoch:', epoch)\n",
    "            print('avg_cost:', avg_cost)\n",
    "            print('train_acc:', acc/total_batch)\n",
    "            acc_val = 0\n",
    "            for iterations in range(total_batch_val):\n",
    "                batch_x1, batch_x2, batch_y = shuffle(val_set[0],val_set[1], val_labels, n_samples = batch_size)\n",
    "                val_acc = sess.run(accuracy, feed_dict={X1: batch_x1, X2: batch_x2, y: batch_y})\n",
    "                acc_val += val_acc\n",
    "            validation_accuracy = acc_val/total_batch_val\n",
    "            print('val_acc:', validation_accuracy)\n",
    "            \n",
    "        if validation_accuracy > best_acc_val:\n",
    "            best_acc_val = validation_accuracy\n",
    "            settings['iteration'] = i\n",
    "            settings['validation_accuracy'] = best_acc_val\n",
    "            settings['learning_rate'] = learning_rate\n",
    "            settings['beta1'] = beta1\n",
    "            settings['beta2'] = beta2\n",
    "            settings['caps1_size'] = caps1_size\n",
    "            settings['caps2_size'] = caps2_size\n",
    "            settings['pred_matrix_size'] = pred_matrix_size\n",
    "            settings['conv1_channels'] = conv1_channels\n",
    "            settings['conv1_filter'] = conv1_filter\n",
    "            settings['primaryCaps_channels'] = primaryCaps_channels\n",
    "            settings['primaryCaps_filter'] = primaryCaps_filter\n",
    "            settings['routing_rounds'] = routing_rounds\n",
    "            settings['fully_layer_size'] = fully_layer_size\n",
    "            settings['stride_conv1'] = stride_conv1\n",
    "            settings['stride_conv2'] = stride_conv2\n",
    "            settings['batch_size'] = batch_size\n",
    "            f = open(\"../settings\" + str(i) +\".txt\",\"w\")\n",
    "            f.write( str(settings) )\n",
    "            f.close() \n",
    "            \n",
    "    tf.reset_default_graph()"
   ]
  },
  {
   "cell_type": "code",
   "execution_count": 23,
   "metadata": {
    "collapsed": true
   },
   "outputs": [],
   "source": [
    "tf.reset_default_graph()"
   ]
  },
  {
   "cell_type": "code",
   "execution_count": 20,
   "metadata": {},
   "outputs": [
    {
     "data": {
      "text/plain": [
       "{'validation_accuracy': 0.7248641304347826,\n",
       " 'learning_rate': 0.0004750834954300537,\n",
       " 'beta1': 0.5604519304186675,\n",
       " 'beta2': 0.3609095332268254,\n",
       " 'caps1_size': 8,\n",
       " 'caps2_size': 64,\n",
       " 'pred_matrix_size': 4,\n",
       " 'conv1_channels': 240,\n",
       " 'conv1_filter': 3,\n",
       " 'primaryCaps_channels': 48,\n",
       " 'primaryCaps_filter': 10,\n",
       " 'routing_rounds': 3,\n",
       " 'fully_layer_size': 16,\n",
       " 'stride_conv1': 4,\n",
       " 'stride_conv2': 2,\n",
       " 'batch_size': 64}"
      ]
     },
     "execution_count": 20,
     "metadata": {},
     "output_type": "execute_result"
    }
   ],
   "source": [
    "settings"
   ]
  }
 ],
 "metadata": {
  "kernelspec": {
   "display_name": "Python [conda env:research-paper]",
   "language": "python",
   "name": "conda-env-research-paper-py"
  },
  "language_info": {
   "codemirror_mode": {
    "name": "ipython",
    "version": 3
   },
   "file_extension": ".py",
   "mimetype": "text/x-python",
   "name": "python",
   "nbconvert_exporter": "python",
   "pygments_lexer": "ipython3",
   "version": "3.6.5"
  }
 },
 "nbformat": 4,
 "nbformat_minor": 2
}
