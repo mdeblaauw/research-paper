{
 "cells": [
  {
   "cell_type": "code",
   "execution_count": 76,
   "metadata": {},
   "outputs": [],
   "source": [
    "import numpy as np\n",
    "import tensorflow as tf\n",
    "import os\n",
    "import pickle\n",
    "import numpy.random as rnd\n",
    "from sklearn.utils import shuffle"
   ]
  },
  {
   "cell_type": "markdown",
   "metadata": {},
   "source": [
    "## Load in data"
   ]
  },
  {
   "cell_type": "code",
   "execution_count": null,
   "metadata": {
    "collapsed": true
   },
   "outputs": [],
   "source": [
    "import pickle\n",
    "import boto3\n",
    "from io import BytesIO"
   ]
  },
  {
   "cell_type": "code",
   "execution_count": null,
   "metadata": {
    "collapsed": true
   },
   "outputs": [],
   "source": [
    "s3 = boto3.resource('s3')\n",
    "data_subsets = ['train', 'val']\n",
    "data = {}\n",
    "\n",
    "for name in data_subsets:\n",
    "    with BytesIO() as files:\n",
    "        path = \"omniglot_images/\" +name+ \".pickle\"\n",
    "        s3.Bucket(\"research-paper-omniglot-data\").download_fileobj(path, files)\n",
    "        files.seek(0)    # move back to the beginning after writing\n",
    "        (X,c) = pickle.load(files)\n",
    "        data[name] = X"
   ]
  },
  {
   "cell_type": "code",
   "execution_count": 4,
   "metadata": {},
   "outputs": [
    {
     "name": "stdout",
     "output_type": "stream",
     "text": [
      "loading data from ../omniglot_images/train.pickle\n",
      "loading data from ../omniglot_images/val.pickle\n",
      "loading data from ../omniglot_images/test.pickle\n"
     ]
    }
   ],
   "source": [
    "path = '../omniglot_images/'\n",
    "data_subsets = [\"train\", \"val\", \"test\"]\n",
    "\n",
    "data = {}\n",
    "categories = {}\n",
    "info = {}\n",
    "        \n",
    "for name in data_subsets:\n",
    "    file_path = os.path.join(path, name + \".pickle\")\n",
    "    print(\"loading data from {}\".format(file_path))\n",
    "    with open(file_path,\"rb\") as f:\n",
    "        (X,c) = pickle.load(f)\n",
    "        data[name] = X\n",
    "        categories[name] = c"
   ]
  },
  {
   "cell_type": "code",
   "execution_count": 5,
   "metadata": {
    "collapsed": true
   },
   "outputs": [],
   "source": [
    "def create_train_data(size, s='train'):\n",
    "    #get train data and shape\n",
    "    X=data[s]\n",
    "    n_classes, n_examples, w, h = X.shape\n",
    "    \n",
    "    #initialize 2 empty arrays for the input size in a list\n",
    "    pairs=[np.zeros((size, h, w,1)) for i in range(2)]\n",
    "    \n",
    "    #initialize vector for the targets\n",
    "    targets=np.zeros((size,1))\n",
    "    \n",
    "    for x in range(size):\n",
    "        #randomly sample one class (character)\n",
    "        category = rnd.choice(n_classes,1,replace=False)\n",
    "        #randomly sample one example from class (1-20 characters)\n",
    "        idx_1 = rnd.randint(0, n_examples)\n",
    "        pairs[0][x,:,:,:] = X[category, idx_1].reshape(w, h, 1)\n",
    "        #randomly sample again one example from class and add last class with modulo\n",
    "        # ..to ensure not same class pairs are created\n",
    "        idx_2 = (idx_1 + rnd.randint(0, n_examples)) % n_examples\n",
    "        #pick images of different class for 1st half and same class for 2nd half\n",
    "        if x >= size // 2:\n",
    "            category_2 = category\n",
    "            targets[x] = 1\n",
    "        else: \n",
    "        #add a random number to the category modulo n classes to ensure 2nd image has\n",
    "        # ..different category\n",
    "            idx_2 = rnd.randint(0, n_examples) \n",
    "            category_2 = (category + rnd.randint(1,n_classes)) % n_classes\n",
    "            targets[x] = 0\n",
    "        pairs[1][x,:,:,:] = X[category_2,idx_2].reshape(w, h,1)\n",
    "        \n",
    "    return pairs, targets"
   ]
  },
  {
   "cell_type": "code",
   "execution_count": 8,
   "metadata": {},
   "outputs": [],
   "source": [
    "train_set, train_labels = create_train_data(10000)\n",
    "val_set, val_labels = create_train_data(3000)"
   ]
  },
  {
   "cell_type": "markdown",
   "metadata": {
    "collapsed": true
   },
   "source": [
    "## Settings"
   ]
  },
  {
   "cell_type": "code",
   "execution_count": 61,
   "metadata": {
    "collapsed": true
   },
   "outputs": [],
   "source": [
    "caps1_size = 8\n",
    "caps2_size = 10 # actually number of capsules\n",
    "pred_matrix_size = 16 # this is actually capsule size of 2\n",
    "conv1_channels = 256\n",
    "conv1_filter = 9\n",
    "primaryCaps_channels = 32\n",
    "primaryCaps_filter = 9\n",
    "routing_rounds = 3\n",
    "epsilon = 1e-7\n",
    "learning_rate = 0.001\n",
    "fully_layer_size = 20"
   ]
  },
  {
   "cell_type": "markdown",
   "metadata": {},
   "source": [
    "## Squash function"
   ]
  },
  {
   "cell_type": "code",
   "execution_count": 62,
   "metadata": {
    "collapsed": true
   },
   "outputs": [],
   "source": [
    "def squash(input_vector, axis):\n",
    "    normalised_input = tf.reduce_sum(tf.square(input_vector), axis = axis, keepdims = True)\n",
    "    scale = tf.divide(normalised_input, tf.add(normalised_input, 1.))\n",
    "    vector = tf.divide(input_vector, tf.sqrt(tf.add(normalised_input, epsilon)))\n",
    "    output = tf.multiply(scale, vector)\n",
    "    \n",
    "    return(output)"
   ]
  },
  {
   "cell_type": "markdown",
   "metadata": {},
   "source": [
    "## Convolutional layer"
   ]
  },
  {
   "cell_type": "code",
   "execution_count": 63,
   "metadata": {},
   "outputs": [],
   "source": [
    "def convolutional(input_data, conv_shape, stride_shape, name, relu=True):\n",
    "    weights = tf.get_variable('W'+name, initializer=tf.truncated_normal(conv_shape, stddev=0.3))\n",
    "    bias = tf.get_variable('B'+name, initializer=tf.truncated_normal([conv_shape[-1]], stddev=0.3))\n",
    "    out_layer = tf.nn.conv2d(input_data, weights, stride_shape, padding = 'VALID')\n",
    "    out_layer_bias = tf.add(out_layer, bias)\n",
    "    \n",
    "    if relu == True:\n",
    "        out_layer_final = tf.nn.relu(out_layer_bias)\n",
    "        return(out_layer_final)\n",
    "    \n",
    "    return(out_layer_bias)"
   ]
  },
  {
   "cell_type": "markdown",
   "metadata": {},
   "source": [
    "## Primarycaps"
   ]
  },
  {
   "cell_type": "code",
   "execution_count": 64,
   "metadata": {
    "collapsed": true
   },
   "outputs": [],
   "source": [
    "def primarycaps(input_data, conv_shape, stride_shape, primaryCaps_channels, caps1_size, caps2_size, pose_size, batch):\n",
    "    output = convolutional(input_data, conv_shape, stride_shape, relu=False, name='primaryCaps')\n",
    "    filter_size = output.get_shape().as_list()[1]\n",
    "    caps1_raw = tf.reshape(output, [-1,filter_size*filter_size*primaryCaps_channels,caps1_size], name='caps1_raw')\n",
    "    caps1_output = squash(caps1_raw, axis=-1)\n",
    "    caps1_output_expand = tf.expand_dims(caps1_output, axis=-1)\n",
    "    caps1_output_expand2 = tf.expand_dims(caps1_output_expand, axis=2)\n",
    "    caps1_output_expand2_tiled = tf.tile(caps1_output_expand2, [1,1,caps2_size,1,1], name = 'caps1_out_tiled')\n",
    "    \n",
    "    weight_matrix = tf.get_variable('Weight_matrix', initializer=tf.truncated_normal([1, filter_size*filter_size*primaryCaps_channels, caps2_size, pose_size, caps1_size], stddev=0.1))\n",
    "    weight_matrix_tiled = tf.tile(weight_matrix, [batch, 1, 1, 1, 1], name = 'W_matrix_tiled')\n",
    "    caps2_predicted = tf.matmul(weight_matrix_tiled, caps1_output_expand2_tiled, name='caps2_predicted')\n",
    "    \n",
    "    return(caps2_predicted)"
   ]
  },
  {
   "cell_type": "markdown",
   "metadata": {},
   "source": [
    "## Routing by agreement"
   ]
  },
  {
   "cell_type": "code",
   "execution_count": 65,
   "metadata": {
    "collapsed": true
   },
   "outputs": [],
   "source": [
    "def routing_by_agreement(input_data, caps2_size, rounds, batch):\n",
    "    raw_weights = tf.zeros([batch, input_data.get_shape().as_list()[1], caps2_size, 1, 1], name = 'raw_weights')\n",
    "    \n",
    "    for i in range(rounds):\n",
    "        routing_weights = tf.nn.softmax(raw_weights, axis=2, name = 'routing_weights' + str(i))\n",
    "        weighted_predictions = tf.multiply(routing_weights, input_data, name = 'weighted_predictions' + str(i))\n",
    "        weighted_sum = tf.reduce_sum(weighted_predictions, axis=1, name = 'weighted_sum' + str(i), keepdims = True)\n",
    "        caps2_output = squash(weighted_sum, axis=-2)\n",
    "    \n",
    "        caps2_output_tiled = tf.tile(caps2_output, [1, input_data.get_shape().as_list()[1], 1, 1, 1], name = 'caps2_output_tiled'+ str(i))\n",
    "        agreement = tf.matmul(input_data, caps2_output_tiled, transpose_a = True, name = 'agreement'+ str(i))\n",
    "        raw_weights = tf.add(raw_weights, agreement, name = 'raw_weights' + str(i))\n",
    "        \n",
    "    return(caps2_output)"
   ]
  },
  {
   "cell_type": "code",
   "execution_count": 66,
   "metadata": {
    "collapsed": true
   },
   "outputs": [],
   "source": [
    "def create_dense_layer(input_data, input_shape, neurons, name):\n",
    "    weights = tf.get_variable(name+'_W', initializer=tf.truncated_normal([input_shape, neurons], stddev=0.2))\n",
    "    bias = tf.get_variable(name+'b', initializer=tf.truncated_normal([neurons], mean=0.5, stddev=0.02))\n",
    "    fully_connected = tf.add(tf.matmul(input_data, weights), bias)\n",
    "    out_dense_activation = tf.nn.sigmoid(fully_connected)\n",
    "    \n",
    "    return(out_dense_activation)"
   ]
  },
  {
   "cell_type": "markdown",
   "metadata": {},
   "source": [
    "## Graph"
   ]
  },
  {
   "cell_type": "code",
   "execution_count": 67,
   "metadata": {
    "collapsed": true
   },
   "outputs": [],
   "source": [
    "def create_network(caps1_size, caps2_size,pred_matrix_size,conv1_channels,conv1_filter,primaryCaps_channels,primaryCaps_filter,routing_rounds,X,fully_layer_size):\n",
    "    conv1 = convolutional(X, [conv1_filter,conv1_filter,X.get_shape().as_list()[-1],\n",
    "                                  conv1_channels],[1,1,1,1], name='conv')\n",
    "    primary = primarycaps(conv1, [primaryCaps_filter,primaryCaps_filter,conv1.get_shape().as_list()[-1],\n",
    "                              primaryCaps_channels*caps1_size], [1,2,2,1],primaryCaps_channels,\n",
    "                      caps1_size,caps2_size, pred_matrix_size, batch=tf.shape(X)[0])\n",
    "    output = routing_by_agreement(primary, caps2_size, routing_rounds, batch=tf.shape(X)[0])\n",
    "    flat = tf.reshape(output, [-1, caps2_size*pred_matrix_size])\n",
    "    fully_connected = create_dense_layer(flat, caps2_size*pred_matrix_size , fully_layer_size, 'fully')\n",
    "    \n",
    "    return(fully_connected)"
   ]
  },
  {
   "cell_type": "code",
   "execution_count": 69,
   "metadata": {
    "collapsed": true
   },
   "outputs": [],
   "source": [
    "tf.reset_default_graph()"
   ]
  },
  {
   "cell_type": "code",
   "execution_count": 70,
   "metadata": {
    "collapsed": true
   },
   "outputs": [],
   "source": [
    "X1 = tf.placeholder(tf.float32, [None, 105, 105, 1])\n",
    "X2 = tf.placeholder(tf.float32, [None, 105, 105, 1])\n",
    "y = tf.placeholder(tf.float32, [None, 1])"
   ]
  },
  {
   "cell_type": "code",
   "execution_count": 71,
   "metadata": {},
   "outputs": [],
   "source": [
    "with tf.variable_scope('siamese') as scope:\n",
    "    output1 = create_network(caps1_size, caps2_size,pred_matrix_size,conv1_channels,conv1_filter,primaryCaps_channels,primaryCaps_filter,routing_rounds,X1,fully_layer_size)\n",
    "    scope.reuse_variables()\n",
    "    output2 = create_network(caps1_size, caps2_size,pred_matrix_size,conv1_channels,conv1_filter,primaryCaps_channels,primaryCaps_filter,routing_rounds,X2,fully_layer_size)\n",
    "\n",
    "\n",
    "l1_dis = tf.abs(tf.subtract(output1, output2))\n",
    "\n",
    "weights = tf.Variable(tf.truncated_normal([fully_layer_size, 1], stddev=0.03), name='w_final')\n",
    "bias = tf.Variable(tf.truncated_normal([1], stddev=0.01), name='b_final')\n",
    "fully_final = tf.add(tf.matmul(l1_dis, weights), bias)\n",
    "y_estimate = tf.nn.sigmoid(fully_final)    "
   ]
  },
  {
   "cell_type": "code",
   "execution_count": 72,
   "metadata": {
    "collapsed": true
   },
   "outputs": [],
   "source": [
    "cross_entropy = tf.reduce_mean(tf.nn.sigmoid_cross_entropy_with_logits(labels = y, logits = fully_final))"
   ]
  },
  {
   "cell_type": "code",
   "execution_count": 73,
   "metadata": {
    "collapsed": true
   },
   "outputs": [],
   "source": [
    "optimiser = tf.train.AdamOptimizer(learning_rate = learning_rate).minimize(cross_entropy)"
   ]
  },
  {
   "cell_type": "markdown",
   "metadata": {},
   "source": [
    "## Prediction"
   ]
  },
  {
   "cell_type": "code",
   "execution_count": 74,
   "metadata": {
    "collapsed": true
   },
   "outputs": [],
   "source": [
    "correct_prediction = tf.equal(tf.round(y_estimate), y)\n",
    "accuracy = tf.reduce_mean(tf.cast(correct_prediction, dtype = tf.float32))"
   ]
  },
  {
   "cell_type": "markdown",
   "metadata": {},
   "source": [
    "## Setup training"
   ]
  },
  {
   "cell_type": "code",
   "execution_count": null,
   "metadata": {},
   "outputs": [],
   "source": [
    "init_op = tf.global_variables_initializer()\n",
    "epochs = 2\n",
    "batch_size = 50\n",
    "\n",
    "#If run on AWS\n",
    "config = tf.ConfigProto(allow_soft_placement=True)\n",
    "config.gpu_options.allocator_type = 'BFC'\n",
    "config.gpu_options.allow_growth=True\n",
    "\n",
    "\n",
    "with tf.Session(config=config) as sess:\n",
    "    init_op.run()\n",
    "\n",
    "    total_batch = int(10000/batch_size)\n",
    "    total_batch_val = int(3000/batch_size)\n",
    "\n",
    "    for epoch in range(epochs):\n",
    "        avg_cost = 0\n",
    "        acc = 0\n",
    "        for i in range(total_batch):\n",
    "            batch_x1, batch_x2, batch_y = shuffle(train_set[0],train_set[1], train_labels, n_samples = batch_size)\n",
    "            a, c, accuracy= sess.run([optimiser, cross_entropy, accuracy], feed_dict={X1: batch_x1, X2: batch_x2, y: batch_y})\n",
    "            avg_cost += c/total_batch\n",
    "            acc += accuracy\n",
    "            print('batch:', i)\n",
    "        print(\"Epoch:\", (epoch + 1), \"cost =\", \"{:.3f}\".format(avg_cost))\n",
    "        print('avg_cost:', avg_cost)\n",
    "        print('train_acc:', acc/total_batch)\n",
    "        acc_val = 0\n",
    "        for iterations in range(total_batch_val):\n",
    "            batch_x1, batch_x2, batch_y = shuffle(val_set[0],val_set[1], val_labels, n_samples = batch_size)\n",
    "            val_acc = sess.run(accuracy, feed_dict={X: batch_x, y: batch_y})\n",
    "            acc_val += val_acc\n",
    "        acc_val = np.mean(acc_vals)\n",
    "        print('val_acc:', acc_val/total_batch_val)"
   ]
  },
  {
   "cell_type": "code",
   "execution_count": null,
   "metadata": {
    "collapsed": true
   },
   "outputs": [],
   "source": []
  }
 ],
 "metadata": {
  "kernelspec": {
   "display_name": "Python [conda env:research-paper]",
   "language": "python",
   "name": "conda-env-research-paper-py"
  },
  "language_info": {
   "codemirror_mode": {
    "name": "ipython",
    "version": 3
   },
   "file_extension": ".py",
   "mimetype": "text/x-python",
   "name": "python",
   "nbconvert_exporter": "python",
   "pygments_lexer": "ipython3",
   "version": "3.6.5"
  }
 },
 "nbformat": 4,
 "nbformat_minor": 2
}
