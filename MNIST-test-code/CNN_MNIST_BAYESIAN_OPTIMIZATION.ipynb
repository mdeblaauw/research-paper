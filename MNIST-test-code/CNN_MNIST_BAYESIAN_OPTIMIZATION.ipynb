{
 "cells": [
  {
   "cell_type": "markdown",
   "metadata": {},
   "source": [
    "# Imports"
   ]
  },
  {
   "cell_type": "code",
   "execution_count": 1,
   "metadata": {},
   "outputs": [
    {
     "name": "stderr",
     "output_type": "stream",
     "text": [
      "/Users/mdeblaauw/anaconda3/envs/research-paper/lib/python3.6/site-packages/h5py/__init__.py:36: FutureWarning: Conversion of the second argument of issubdtype from `float` to `np.floating` is deprecated. In future, it will be treated as `np.float64 == np.dtype(float).type`.\n",
      "  from ._conv import register_converters as _register_converters\n"
     ]
    }
   ],
   "source": [
    "%matplotlib inline\n",
    "import matplotlib.pyplot as plt\n",
    "import tensorflow as tf\n",
    "import numpy as np\n",
    "import math"
   ]
  },
  {
   "cell_type": "code",
   "execution_count": 2,
   "metadata": {
    "collapsed": true
   },
   "outputs": [],
   "source": [
    "import skopt\n",
    "from skopt import gp_minimize, forest_minimize\n",
    "from skopt.space import Real, Categorical, Integer\n",
    "from skopt.utils import use_named_args"
   ]
  },
  {
   "cell_type": "markdown",
   "metadata": {},
   "source": [
    "# Hyperparameter setting"
   ]
  },
  {
   "cell_type": "code",
   "execution_count": 35,
   "metadata": {
    "collapsed": true
   },
   "outputs": [],
   "source": [
    "dim_num_batch_size = Integer(low=16, high=256, name='num_batch_size')\n",
    "dim_num_epochs = Integer(low=1, high=15, name='num_epochs')\n",
    "dim_learning_rate = Real(low=1e-6, high=1e-2, prior='log-uniform', name='reg_layer1')"
   ]
  },
  {
   "cell_type": "code",
   "execution_count": 36,
   "metadata": {
    "collapsed": true
   },
   "outputs": [],
   "source": [
    "dimensions = [dim_num_epochs,\n",
    "              dim_num_batch_size,\n",
    "              dim_learning_rate]"
   ]
  },
  {
   "cell_type": "code",
   "execution_count": 43,
   "metadata": {
    "collapsed": true
   },
   "outputs": [],
   "source": [
    "default_parameters = [3, 32, 0.0001]"
   ]
  },
  {
   "cell_type": "code",
   "execution_count": 38,
   "metadata": {
    "collapsed": true
   },
   "outputs": [],
   "source": [
    "def log_dir_name(learning_rate, num_dense_layers,\n",
    "                 num_dense_nodes, activation):\n",
    "\n",
    "    # The dir-name for the TensorBoard log-dir.\n",
    "    s = \"./19_logs/lr_{0:.0e}_layers_{1}_nodes_{2}_{3}/\"\n",
    "\n",
    "    # Insert all the hyper-parameters in the dir-name.\n",
    "    log_dir = s.format(learning_rate,\n",
    "                       num_dense_layers,\n",
    "                       num_dense_nodes,\n",
    "                       activation)\n",
    "\n",
    "    return log_dir"
   ]
  },
  {
   "cell_type": "markdown",
   "metadata": {},
   "source": [
    "# Load data"
   ]
  },
  {
   "cell_type": "code",
   "execution_count": 17,
   "metadata": {},
   "outputs": [
    {
     "name": "stdout",
     "output_type": "stream",
     "text": [
      "Extracting data/MNIST/train-images-idx3-ubyte.gz\n",
      "Extracting data/MNIST/train-labels-idx1-ubyte.gz\n",
      "Extracting data/MNIST/t10k-images-idx3-ubyte.gz\n",
      "Extracting data/MNIST/t10k-labels-idx1-ubyte.gz\n"
     ]
    }
   ],
   "source": [
    "from tensorflow.examples.tutorials.mnist import input_data\n",
    "mnist = input_data.read_data_sets('../../Tensorflow-applications/MNIST_data/', one_hot=True)"
   ]
  },
  {
   "cell_type": "code",
   "execution_count": 39,
   "metadata": {},
   "outputs": [
    {
     "name": "stdout",
     "output_type": "stream",
     "text": [
      "Size of:\n",
      "- Training-set:\t\t55000\n",
      "- Test-set:\t\t10000\n",
      "- Validation-set:\t5000\n"
     ]
    }
   ],
   "source": [
    "print(\"Size of:\")\n",
    "print(\"- Training-set:\\t\\t{}\".format(len(mnist.train.labels)))\n",
    "print(\"- Test-set:\\t\\t{}\".format(len(mnist.test.labels)))\n",
    "print(\"- Validation-set:\\t{}\".format(len(mnist.validation.labels)))"
   ]
  },
  {
   "cell_type": "markdown",
   "metadata": {},
   "source": [
    "# Hyper-parameter Optimization"
   ]
  },
  {
   "cell_type": "code",
   "execution_count": 40,
   "metadata": {
    "collapsed": true
   },
   "outputs": [],
   "source": [
    "def create_conv_layer(input_data, num_input_channels, num_filters, filter_shape, pool_shape, name):\n",
    "    conv_filter_shape = [filter_shape[0], filter_shape[1], num_input_channels, num_filters]\n",
    "    weights = tf.Variable(tf.truncated_normal(conv_filter_shape, stddev=0.03), name=name+\"_W\")\n",
    "    bias = tf.Variable(tf.truncated_normal([num_filters], stddev=0.01), name = name+\"_b\")\n",
    "    \n",
    "    out_layer = tf.nn.conv2d(input_data, weights, [1,1,1,1], padding = 'SAME')\n",
    "    out_layer_bias = tf.add(out_layer, bias)\n",
    "    \n",
    "    out_layer_activation = tf.nn.relu(out_layer_bias)\n",
    "    \n",
    "    out_layer_pooling = tf.nn.max_pool(out_layer_activation, ksize = [1,pool_shape[0], pool_shape[1], 1], strides = [1,2,2,1], padding = 'VALID')\n",
    "    \n",
    "    return(out_layer_pooling)"
   ]
  },
  {
   "cell_type": "markdown",
   "metadata": {},
   "source": [
    "# Dense layers"
   ]
  },
  {
   "cell_type": "code",
   "execution_count": 41,
   "metadata": {
    "collapsed": true
   },
   "outputs": [],
   "source": [
    "def create_dense_layer(input_data, dense_shape, name):\n",
    "    W = tf.Variable(tf.truncated_normal([dense_shape[0], dense_shape[1]], stddev=0.03), name=name+'Wd')\n",
    "    b = tf.Variable(tf.truncated_normal([dense_shape[1]], stddev=0.01), name=name+'bd')\n",
    "    fc = tf.add(tf.matmul(input_data, W), b)\n",
    "    fc_act = tf.nn.relu(fc)\n",
    "    \n",
    "    return(fc_act)"
   ]
  },
  {
   "cell_type": "markdown",
   "metadata": {},
   "source": [
    "## Setup training"
   ]
  },
  {
   "cell_type": "code",
   "execution_count": 47,
   "metadata": {
    "collapsed": true
   },
   "outputs": [],
   "source": [
    "@use_named_args(dimensions=dimensions)\n",
    "def fitness(num_epochs, num_batch_size, learning_rate):\n",
    "    \n",
    "    # Print the hyper-parameters.\n",
    "    print('epochs:', num_epochs)\n",
    "    print('batch_size:', num_batch_size)\n",
    "    print('learning rate:', learning_rate)\n",
    "    print()\n",
    "    \n",
    "    epochs = num_epochs\n",
    "    batch_size = num_batch_size\n",
    "    learning_rate = learning_rate\n",
    "    \n",
    "    X = tf.placeholder(tf.float32, [None, 784])\n",
    "    X_reshape = tf.reshape(X, [-1, 28, 28, 1])\n",
    "    y = tf.placeholder(tf.float32, [None, 10])\n",
    "    \n",
    "    layer1 = create_conv_layer(X_reshape, 1, 16, [5,5], [2,2], name = 'layer1')\n",
    "    layer2 = create_conv_layer(layer1, 16, 32, [5,5], [2,2], name = 'layer2')\n",
    "    \n",
    "    flat = tf.reshape(layer2, [-1, 7*7*32])\n",
    "    fc1 = create_dense_layer(flat, [7*7*32, 245], name='fc1')\n",
    "    fc2 = create_dense_layer(fc1, [245, 10], name = 'fc2')\n",
    "    \n",
    "    y_estimate = tf.nn.softmax(fc2,axis=1)\n",
    "    cross_entropy = tf.reduce_mean(tf.nn.softmax_cross_entropy_with_logits_v2(logits = fc2, labels=y))\n",
    "    optimiser = tf.train.AdamOptimizer(learning_rate = learning_rate).minimize(cross_entropy)\n",
    "    \n",
    "    correct_prediction = tf.equal(tf.argmax(y,axis=1), tf.argmax(y_estimate, axis=1))\n",
    "    accuracy = tf.reduce_mean(tf.cast(correct_prediction, dtype = tf.float32))\n",
    "    \n",
    "    init_op = tf.global_variables_initializer()\n",
    "    \n",
    "    test_acc = 0\n",
    "    \n",
    "    with tf.Session() as sess:\n",
    "        sess.run(init_op)\n",
    "        total_batch = int(len(mnist.train.images)/batch_size)\n",
    "        for epoch in range(epochs):\n",
    "            avg_cost = 0\n",
    "            for i in range(total_batch):\n",
    "                batch_x, batch_y = mnist.train.next_batch(batch_size=batch_size)\n",
    "                a, c= sess.run([optimiser, cross_entropy], feed_dict={X: batch_x, y: batch_y})\n",
    "                avg_cost += c/total_batch\n",
    "            print(\"Epoch:\", (epoch + 1), \"cost =\", \"{:.3f}\".format(avg_cost))\n",
    "        test_acc = sess.run(accuracy, feed_dict={X: mnist.test.images, y: mnist.test.labels})\n",
    "        print()\n",
    "        print(\"Test accuracy:\", test_acc)\n",
    "        print()\n",
    "    return(-test_acc)"
   ]
  },
  {
   "cell_type": "code",
   "execution_count": 48,
   "metadata": {},
   "outputs": [
    {
     "name": "stdout",
     "output_type": "stream",
     "text": [
      "epochs: 3\n",
      "batch_size: 32\n",
      "learning rate: 0.0001\n",
      "\n",
      "Epoch: 1 cost = 1.308\n",
      "Epoch: 2 cost = 1.074\n",
      "Epoch: 3 cost = 1.037\n",
      "\n",
      "Test accuracy: 0.58\n",
      "\n"
     ]
    },
    {
     "data": {
      "text/plain": [
       "-0.58"
      ]
     },
     "execution_count": 48,
     "metadata": {},
     "output_type": "execute_result"
    }
   ],
   "source": [
    "fitness(x=default_parameters)"
   ]
  },
  {
   "cell_type": "code",
   "execution_count": 26,
   "metadata": {},
   "outputs": [
    {
     "name": "stdout",
     "output_type": "stream",
     "text": [
      "epochs: 2\n",
      "batch_size: 32\n",
      "learning rate: 1e-05\n",
      "\n",
      "Epoch: 1 cost = 1.536\n",
      "Epoch: 2 cost = 1.140\n",
      "\n",
      "Test accuracy: 0.5878\n",
      "\n",
      "epochs: 10\n",
      "batch_size: 75\n",
      "learning rate: 0.00024213211734243687\n",
      "\n",
      "Epoch: 1 cost = 1.900\n",
      "Epoch: 2 cost = 1.850\n",
      "Epoch: 3 cost = 1.843\n",
      "Epoch: 4 cost = 1.840\n",
      "Epoch: 5 cost = 1.836\n",
      "Epoch: 6 cost = 1.836\n",
      "Epoch: 7 cost = 1.834\n",
      "Epoch: 8 cost = 1.833\n",
      "Epoch: 9 cost = 1.833\n",
      "Epoch: 10 cost = 1.830\n",
      "\n",
      "Test accuracy: 0.3004\n",
      "\n",
      "epochs: 7\n",
      "batch_size: 97\n",
      "learning rate: 3.6308379317182094e-05\n",
      "\n",
      "Epoch: 1 cost = 1.239\n",
      "Epoch: 2 cost = 0.872\n",
      "Epoch: 3 cost = 0.816\n",
      "Epoch: 4 cost = 0.785\n",
      "Epoch: 5 cost = 0.765\n",
      "Epoch: 6 cost = 0.751\n",
      "Epoch: 7 cost = 0.740\n",
      "\n",
      "Test accuracy: 0.7945\n",
      "\n",
      "epochs: 9\n",
      "batch_size: 209\n",
      "learning rate: 0.000328733080919149\n",
      "\n",
      "Epoch: 1 cost = 1.230\n",
      "Epoch: 2 cost = 1.033\n",
      "Epoch: 3 cost = 1.008\n",
      "Epoch: 4 cost = 0.993\n",
      "Epoch: 5 cost = 0.985\n",
      "Epoch: 6 cost = 0.977\n",
      "Epoch: 7 cost = 0.976\n",
      "Epoch: 8 cost = 0.971\n",
      "Epoch: 9 cost = 0.968\n",
      "\n",
      "Test accuracy: 0.5816\n",
      "\n",
      "epochs: 10\n",
      "batch_size: 211\n",
      "learning rate: 6.381273223540004e-06\n",
      "\n",
      "Epoch: 1 cost = 2.214\n",
      "Epoch: 2 cost = 1.828\n",
      "Epoch: 3 cost = 1.418\n",
      "Epoch: 4 cost = 1.145\n",
      "Epoch: 5 cost = 0.933\n",
      "Epoch: 6 cost = 0.861\n",
      "Epoch: 7 cost = 0.822\n",
      "Epoch: 8 cost = 0.790\n",
      "Epoch: 9 cost = 0.769\n",
      "Epoch: 10 cost = 0.751\n",
      "\n",
      "Test accuracy: 0.7351\n",
      "\n",
      "epochs: 7\n",
      "batch_size: 53\n",
      "learning rate: 0.00016897232783793698\n",
      "\n",
      "Epoch: 1 cost = 0.663\n",
      "Epoch: 2 cost = 0.497\n",
      "Epoch: 3 cost = 0.480\n",
      "Epoch: 4 cost = 0.470\n",
      "Epoch: 5 cost = 0.461\n",
      "Epoch: 6 cost = 0.457\n",
      "Epoch: 7 cost = 0.452\n",
      "\n",
      "Test accuracy: 0.8063\n",
      "\n",
      "epochs: 5\n",
      "batch_size: 75\n",
      "learning rate: 0.00015148136225585533\n",
      "\n",
      "Epoch: 1 cost = 0.937\n",
      "Epoch: 2 cost = 0.761\n",
      "Epoch: 3 cost = 0.745\n",
      "Epoch: 4 cost = 0.733\n",
      "Epoch: 5 cost = 0.726\n",
      "\n",
      "Test accuracy: 0.6933\n",
      "\n",
      "epochs: 10\n",
      "batch_size: 163\n",
      "learning rate: 0.0002714882625493607\n",
      "\n",
      "Epoch: 1 cost = 1.761\n",
      "Epoch: 2 cost = 1.661\n",
      "Epoch: 3 cost = 1.649\n",
      "Epoch: 4 cost = 1.642\n",
      "Epoch: 5 cost = 1.637\n",
      "Epoch: 6 cost = 1.635\n",
      "Epoch: 7 cost = 1.631\n",
      "Epoch: 8 cost = 1.364\n",
      "Epoch: 9 cost = 1.185\n",
      "Epoch: 10 cost = 1.181\n",
      "\n",
      "Test accuracy: 0.4921\n",
      "\n",
      "epochs: 9\n",
      "batch_size: 94\n",
      "learning rate: 7.036859000171686e-06\n",
      "\n",
      "Epoch: 1 cost = 1.982\n",
      "Epoch: 2 cost = 1.100\n",
      "Epoch: 3 cost = 0.870\n",
      "Epoch: 4 cost = 0.789\n",
      "Epoch: 5 cost = 0.747\n",
      "Epoch: 6 cost = 0.715\n",
      "Epoch: 7 cost = 0.694\n",
      "Epoch: 8 cost = 0.673\n",
      "Epoch: 9 cost = 0.661\n",
      "\n",
      "Test accuracy: 0.7669\n",
      "\n",
      "epochs: 2\n",
      "batch_size: 156\n",
      "learning rate: 2.4403209896426415e-05\n",
      "\n",
      "Epoch: 1 cost = 1.624\n",
      "Epoch: 2 cost = 0.968\n",
      "\n",
      "Test accuracy: 0.7455\n",
      "\n",
      "epochs: 10\n",
      "batch_size: 180\n",
      "learning rate: 0.005567723915222074\n",
      "\n",
      "Epoch: 1 cost = 2.305\n",
      "Epoch: 2 cost = 2.303\n",
      "Epoch: 3 cost = 2.303\n",
      "Epoch: 4 cost = 2.303\n",
      "Epoch: 5 cost = 2.303\n",
      "Epoch: 6 cost = 2.303\n",
      "Epoch: 7 cost = 2.303\n",
      "Epoch: 8 cost = 2.303\n",
      "Epoch: 9 cost = 2.303\n",
      "Epoch: 10 cost = 2.303\n",
      "\n",
      "Test accuracy: 0.098\n",
      "\n",
      "epochs: 7\n",
      "batch_size: 161\n",
      "learning rate: 1e-06\n",
      "\n",
      "Epoch: 1 cost = 2.296\n",
      "Epoch: 2 cost = 2.282\n",
      "Epoch: 3 cost = 2.265\n",
      "Epoch: 4 cost = 2.242\n",
      "Epoch: 5 cost = 2.216\n",
      "Epoch: 6 cost = 2.183\n",
      "Epoch: 7 cost = 2.147\n",
      "\n",
      "Test accuracy: 0.3766\n",
      "\n"
     ]
    }
   ],
   "source": [
    "search_result = gp_minimize(func=fitness,\n",
    "                            dimensions=dimensions,\n",
    "                            acq_func='EI', # Expected Improvement.\n",
    "                            n_calls=12,\n",
    "                            x0=default_parameters)"
   ]
  },
  {
   "cell_type": "code",
   "execution_count": 29,
   "metadata": {
    "collapsed": true
   },
   "outputs": [],
   "source": [
    "from skopt.plots import plot_convergence\n",
    "from skopt.plots import plot_objective, plot_evaluations\n",
    "from skopt.utils import use_named_args"
   ]
  },
  {
   "cell_type": "code",
   "execution_count": 30,
   "metadata": {},
   "outputs": [
    {
     "data": {
      "text/plain": [
       "<matplotlib.axes._subplots.AxesSubplot at 0x12013e2e8>"
      ]
     },
     "execution_count": 30,
     "metadata": {},
     "output_type": "execute_result"
    },
    {
     "data": {
      "image/png": "[encoded data removed]",
      "text/plain": [
       "<matplotlib.figure.Figure at 0x1074aaa20>"
      ]
     },
     "metadata": {},
     "output_type": "display_data"
    }
   ],
   "source": [
    "plot_convergence(search_result)"
   ]
  },
  {
   "cell_type": "code",
   "execution_count": 31,
   "metadata": {},
   "outputs": [
    {
     "data": {
      "text/plain": [
       "[7, 53, 0.00016897232783793698]"
      ]
     },
     "execution_count": 31,
     "metadata": {},
     "output_type": "execute_result"
    }
   ],
   "source": [
    "search_result.x"
   ]
  },
  {
   "cell_type": "code",
   "execution_count": 33,
   "metadata": {},
   "outputs": [
    {
     "data": {
      "text/plain": [
       "[(-0.8063, [7, 53, 0.00016897232783793698]),\n",
       " (-0.7945, [7, 97, 3.6308379317182094e-05]),\n",
       " (-0.7669, [9, 94, 7.036859000171686e-06]),\n",
       " (-0.7455, [2, 156, 2.4403209896426415e-05]),\n",
       " (-0.7351, [10, 211, 6.381273223540004e-06]),\n",
       " (-0.6933, [5, 75, 0.00015148136225585533]),\n",
       " (-0.5878, [2, 32, 1e-05]),\n",
       " (-0.5816, [9, 209, 0.000328733080919149]),\n",
       " (-0.4921, [10, 163, 0.0002714882625493607]),\n",
       " (-0.3766, [7, 161, 1e-06]),\n",
       " (-0.3004, [10, 75, 0.00024213211734243687]),\n",
       " (-0.098, [10, 180, 0.005567723915222074])]"
      ]
     },
     "execution_count": 33,
     "metadata": {},
     "output_type": "execute_result"
    }
   ],
   "source": [
    "sorted(zip(search_result.func_vals, search_result.x_iters))"
   ]
  },
  {
   "cell_type": "code",
   "execution_count": null,
   "metadata": {
    "collapsed": true
   },
   "outputs": [],
   "source": []
  }
 ],
 "metadata": {
  "kernelspec": {
   "display_name": "Python [conda env:tensorflow_p36]",
   "language": "python",
   "name": "conda-env-tensorflow_p36-py"
  },
  "language_info": {
   "codemirror_mode": {
    "name": "ipython",
    "version": 3
   },
   "file_extension": ".py",
   "mimetype": "text/x-python",
   "name": "python",
   "nbconvert_exporter": "python",
   "pygments_lexer": "ipython3",
   "version": "3.6.6"
  }
 },
 "nbformat": 4,
 "nbformat_minor": 2
}
