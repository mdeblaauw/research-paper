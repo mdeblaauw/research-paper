{
 "cells": [
  {
   "cell_type": "markdown",
   "metadata": {
    "nbpresent": {
     "id": "841470aa-770d-4584-835a-3f25f49cd0bb"
    }
   },
   "source": [
    "# Settings"
   ]
  },
  {
   "cell_type": "code",
   "execution_count": 2,
   "metadata": {
    "collapsed": true,
    "nbpresent": {
     "id": "fa1b2bf1-699e-487a-a547-50bbb95731e3"
    }
   },
   "outputs": [],
   "source": [
    "import os\n",
    "import random\n",
    "import numpy as np\n",
    "import math\n",
    "import numpy.random as rnd\n",
    "from PIL import Image\n",
    "import pickle\n",
    "from sklearn.utils import shuffle"
   ]
  },
  {
   "cell_type": "markdown",
   "metadata": {
    "nbpresent": {
     "id": "8f44b991-facc-443b-a123-855cdcc7622a"
    }
   },
   "source": [
    "# Read in data"
   ]
  },
  {
   "cell_type": "markdown",
   "metadata": {
    "nbpresent": {
     "id": "2000522c-00c9-44fd-9e31-3a4887065942"
    }
   },
   "source": [
    "### Path datasets"
   ]
  },
  {
   "cell_type": "code",
   "execution_count": 2,
   "metadata": {
    "collapsed": true,
    "nbpresent": {
     "id": "95e776e6-78f4-4c51-99eb-cda8bc4f65d1"
    }
   },
   "outputs": [],
   "source": [
    "train_path = os.path.join(\"../\", 'images_background')\n",
    "validation_path = os.path.join(\"../\", 'images_evaluation')"
   ]
  },
  {
   "cell_type": "markdown",
   "metadata": {
    "nbpresent": {
     "id": "edbef4f7-58ac-4fc9-8091-cca4854a65c8"
    }
   },
   "source": [
    "### Read in function"
   ]
  },
  {
   "cell_type": "markdown",
   "metadata": {
    "nbpresent": {
     "id": "a8da67f1-4883-4c24-b0fe-2f5d49fb20bd"
    }
   },
   "source": [
    "Make pickle dataset of both images_background and images_evaluation in respectively train- and test sets."
   ]
  },
  {
   "cell_type": "code",
   "execution_count": 63,
   "metadata": {
    "nbpresent": {
     "id": "012e7fe8-1dfa-4e6a-8d98-25d9e24120cb"
    }
   },
   "outputs": [
    {
     "name": "stdout",
     "output_type": "stream",
     "text": [
      "loading alphabet: Gujarati\n"
     ]
    },
    {
     "name": "stderr",
     "output_type": "stream",
     "text": [
      "/Users/mdeblaauw/anaconda3/envs/research-paper/lib/python3.6/site-packages/ipykernel/__main__.py:47: DeprecationWarning: `imread` is deprecated!\n",
      "`imread` is deprecated in SciPy 1.0.0, and will be removed in 1.2.0.\n",
      "Use ``imageio.imread`` instead.\n"
     ]
    },
    {
     "name": "stdout",
     "output_type": "stream",
     "text": [
      "loading alphabet: Korean\n",
      "loading alphabet: Arcadian\n",
      "loading alphabet: Malay_(Jawi_-_Arabic)\n",
      "loading alphabet: Grantha\n",
      "loading alphabet: Blackfoot_(Canadian_Aboriginal_Syllabics)\n",
      "loading alphabet: Balinese\n",
      "loading alphabet: Futurama\n",
      "loading alphabet: N_Ko\n",
      "loading alphabet: Burmese_(Myanmar)\n",
      "loading alphabet: Anglo-Saxon_Futhorc\n",
      "loading alphabet: Mkhedruli_(Georgian)\n",
      "loading alphabet: Latin\n",
      "loading alphabet: Braille\n",
      "loading alphabet: Sanskrit\n",
      "loading alphabet: Japanese_(hiragana)\n",
      "loading alphabet: Tagalog\n",
      "loading alphabet: Greek\n",
      "loading alphabet: Ojibwe_(Canadian_Aboriginal_Syllabics)\n",
      "loading alphabet: Japanese_(katakana)\n",
      "loading alphabet: Early_Aramaic\n",
      "loading alphabet: Hebrew\n",
      "loading alphabet: Tifinagh\n",
      "loading alphabet: Asomtavruli_(Georgian)\n",
      "loading alphabet: Armenian\n",
      "loading alphabet: Syriac_(Estrangelo)\n",
      "loading alphabet: Alphabet_of_the_Magi\n",
      "loading alphabet: Cyrillic\n",
      "loading alphabet: Bengali\n",
      "loading alphabet: Inuktitut_(Canadian_Aboriginal_Syllabics)\n",
      "loading alphabet: Atlantean\n",
      "loading alphabet: Manipuri\n",
      "loading alphabet: Tibetan\n",
      "loading alphabet: Aurek-Besh\n",
      "loading alphabet: Angelic\n",
      "loading alphabet: Kannada\n",
      "loading alphabet: Mongolian\n",
      "loading alphabet: Syriac_(Serto)\n",
      "loading alphabet: Sylheti\n",
      "loading alphabet: Glagolitic\n",
      "loading alphabet: Oriya\n",
      "loading alphabet: ULOG\n",
      "loading alphabet: Tengwar\n",
      "loading alphabet: Malayalam\n",
      "loading alphabet: Keble\n",
      "loading alphabet: Gurmukhi\n",
      "loading alphabet: Ge_ez\n",
      "loading alphabet: Old_Church_Slavonic_(Cyrillic)\n",
      "loading alphabet: Avesta\n",
      "loading alphabet: Atemayar_Qelisayer\n"
     ]
    }
   ],
   "source": [
    "import sys\n",
    "import numpy as np\n",
    "from scipy.misc import imread\n",
    "import pickle\n",
    "import os\n",
    "import matplotlib.pyplot as plt\n",
    "import argparse\n",
    "\"\"\"Script to preprocess the omniglot dataset and pickle it into an array that's easy\n",
    "    to index my character type\"\"\"\n",
    "\n",
    "\n",
    "data_path = '../'\n",
    "train_folder = os.path.join(data_path,'images_background')\n",
    "valpath = os.path.join(data_path,'images_validation')\n",
    "testpath = os.path.join(data_path,'images_test')\n",
    "save_path = '../omniglot_images/'\n",
    "\n",
    "lang_dict = {}\n",
    "\n",
    "\n",
    "def loadimgs(path,n=0):\n",
    "    #if data not already unzipped, unzip it.\n",
    "    if not os.path.exists(path):\n",
    "        print(\"unzipping\")\n",
    "        os.chdir(data_path)\n",
    "        os.system(\"unzip {}\".format(path+\".zip\" ))\n",
    "    X=[]\n",
    "    y = []\n",
    "    cat_dict = {}\n",
    "    lang_dict = {}\n",
    "    curr_y = n\n",
    "    #we load every alphabet seperately so we can isolate them later\n",
    "    for alphabet in os.listdir(path):\n",
    "        if not alphabet.startswith('.'):\n",
    "            print(\"loading alphabet: \" + alphabet)\n",
    "            lang_dict[alphabet] = [curr_y,None]\n",
    "            alphabet_path = os.path.join(path,alphabet)\n",
    "            #every letter/category has it's own column in the array, so  load seperately\n",
    "            for letter in os.listdir(alphabet_path):\n",
    "                if not letter.startswith('.'):\n",
    "                    cat_dict[curr_y] = (alphabet, letter)\n",
    "                    category_images=[]\n",
    "                    letter_path = os.path.join(alphabet_path, letter)\n",
    "                    for filename in os.listdir(letter_path):\n",
    "                        if not filename.startswith('.'):\n",
    "                            image_path = os.path.join(letter_path, filename)\n",
    "                            image = imread(image_path)\n",
    "                            category_images.append(image)\n",
    "                            y.append(curr_y)\n",
    "                    try:\n",
    "                        X.append(np.stack(category_images))\n",
    "                        #edge case  - last one\n",
    "                    except ValueError as e:\n",
    "                        print(e)\n",
    "                        print(\"error - category_images:\", category_images)\n",
    "                    curr_y += 1\n",
    "                    lang_dict[alphabet][1] = curr_y - 1\n",
    "    y = np.vstack(y)\n",
    "    X = np.stack(X)\n",
    "    return X,y,lang_dict\n",
    "\n",
    "X,y,c=loadimgs(train_folder)\n",
    "\n",
    "\n",
    "with open(os.path.join(save_path,\"train.pickle\"), \"wb\") as f:\n",
    "    pickle.dump((X,c),f)\n",
    "\n",
    "X,y,c=loadimgs(valpath)\n",
    "with open(os.path.join(save_path,\"val.pickle\"), \"wb\") as f:\n",
    "    pickle.dump((X,c),f)\n",
    "    \n",
    "X,y,c=loadimgs(testpath)\n",
    "with open(os.path.join(save_path,\"test.pickle\"), \"wb\") as f:\n",
    "    pickle.dump((X,c),f)"
   ]
  },
  {
   "cell_type": "markdown",
   "metadata": {
    "nbpresent": {
     "id": "914581ee-6d33-4847-b9a1-1a5bbc457d5f"
    }
   },
   "source": [
    "Create pickle dataset of train/val/test datasets"
   ]
  },
  {
   "cell_type": "code",
   "execution_count": 65,
   "metadata": {
    "nbpresent": {
     "id": "1b8fd9d9-7b56-42a0-a773-52effa16b5dd"
    }
   },
   "outputs": [
    {
     "name": "stdout",
     "output_type": "stream",
     "text": [
      "training alphabets\n",
      "dict_keys(['Gujarati', 'Korean', 'Arcadian', 'Malay_(Jawi_-_Arabic)', 'Grantha', 'Blackfoot_(Canadian_Aboriginal_Syllabics)', 'Balinese', 'Futurama', 'N_Ko', 'Burmese_(Myanmar)', 'Anglo-Saxon_Futhorc', 'Mkhedruli_(Georgian)', 'Latin', 'Braille', 'Sanskrit', 'Japanese_(hiragana)', 'Tagalog', 'Greek', 'Ojibwe_(Canadian_Aboriginal_Syllabics)', 'Japanese_(katakana)', 'Early_Aramaic', 'Hebrew', 'Tifinagh', 'Asomtavruli_(Georgian)', 'Armenian', 'Syriac_(Estrangelo)', 'Alphabet_of_the_Magi', 'Cyrillic', 'Bengali', 'Inuktitut_(Canadian_Aboriginal_Syllabics)'])\n",
      "validation alphabets:\n",
      "dict_keys(['Atlantean', 'Manipuri', 'Tibetan', 'Aurek-Besh', 'Angelic', 'Kannada', 'Mongolian', 'Syriac_(Serto)', 'Sylheti', 'Glagolitic'])\n",
      "test alphabets:\n",
      "dict_keys(['Oriya', 'ULOG', 'Tengwar', 'Malayalam', 'Keble', 'Gurmukhi', 'Ge_ez', 'Old_Church_Slavonic_(Cyrillic)', 'Avesta', 'Atemayar_Qelisayer'])\n"
     ]
    }
   ],
   "source": [
    "PATH = \"../omniglot_images/\" #CHANGE THIS - path where the pickled data is stored\n",
    "\n",
    "with open(os.path.join(PATH, \"train.pickle\"), \"rb\") as f:\n",
    "    (X,c) = pickle.load(f)\n",
    "\n",
    "with open(os.path.join(PATH, \"val.pickle\"), \"rb\") as f:\n",
    "    (Xval,cval) = pickle.load(f)\n",
    "    \n",
    "with open(os.path.join(PATH, \"test.pickle\"), \"rb\") as f:\n",
    "    (Xtest,ctest) = pickle.load(f)\n",
    "    \n",
    "print(\"training alphabets\")\n",
    "print(c.keys())\n",
    "print(\"validation alphabets:\")\n",
    "print(cval.keys())\n",
    "print(\"test alphabets:\")\n",
    "print(ctest.keys())"
   ]
  },
  {
   "cell_type": "markdown",
   "metadata": {
    "nbpresent": {
     "id": "a043be81-3550-473e-aefb-405f1f7edeb8"
    }
   },
   "source": [
    "# Load in pickle datasets"
   ]
  },
  {
   "cell_type": "code",
   "execution_count": 3,
   "metadata": {
    "nbpresent": {
     "id": "4f796839-98d4-46b0-96a5-565be7ae4eea"
    }
   },
   "outputs": [
    {
     "name": "stdout",
     "output_type": "stream",
     "text": [
      "loading data from ../omniglot_images/train.pickle\n",
      "loading data from ../omniglot_images/val.pickle\n",
      "loading data from ../omniglot_images/test.pickle\n"
     ]
    }
   ],
   "source": [
    "path = '../omniglot_images/'\n",
    "data_subsets = [\"train\", \"val\", \"test\"]\n",
    "\n",
    "data = {}\n",
    "categories = {}\n",
    "info = {}\n",
    "        \n",
    "for name in data_subsets:\n",
    "    file_path = os.path.join(path, name + \".pickle\")\n",
    "    print(\"loading data from {}\".format(file_path))\n",
    "    with open(file_path,\"rb\") as f:\n",
    "        (X,c) = pickle.load(f)\n",
    "        data[name] = X\n",
    "        categories[name] = c"
   ]
  },
  {
   "cell_type": "markdown",
   "metadata": {
    "nbpresent": {
     "id": "bd605a8e-1d92-4b1f-bc6e-13deba24a193"
    }
   },
   "source": [
    "Every image is 105x105 pixels. Every character exist of 20 same drawn characters"
   ]
  },
  {
   "cell_type": "code",
   "execution_count": 4,
   "metadata": {
    "nbpresent": {
     "id": "7dd44a13-cbc5-4a36-8ee5-0196fb42b2f6"
    }
   },
   "outputs": [
    {
     "name": "stdout",
     "output_type": "stream",
     "text": [
      "train shape\n",
      "(964, 20, 105, 105)\n",
      "\n",
      "val shape\n",
      "(321, 20, 105, 105)\n",
      "\n",
      "test shape\n",
      "(338, 20, 105, 105)\n"
     ]
    }
   ],
   "source": [
    "print('train shape')\n",
    "print(data['train'].shape)\n",
    "print()\n",
    "print('val shape')\n",
    "print(data['val'].shape)\n",
    "print()\n",
    "print('test shape')\n",
    "print(data['test'].shape)"
   ]
  },
  {
   "cell_type": "markdown",
   "metadata": {
    "nbpresent": {
     "id": "df0a76f3-3a0c-4c2c-8179-3df49808842b"
    }
   },
   "source": [
    "## Create train/validation/test set"
   ]
  },
  {
   "cell_type": "code",
   "execution_count": 68,
   "metadata": {
    "collapsed": true,
    "nbpresent": {
     "id": "ea0e9e4f-4b79-4bb8-a6fc-2751b83bec64"
    }
   },
   "outputs": [],
   "source": [
    "def create_train_data(size, s='train'):\n",
    "    #get train data and shape\n",
    "    X=data[s]\n",
    "    n_classes, n_examples, w, h = X.shape\n",
    "    \n",
    "    #initialize 2 empty arrays for the input size in a list\n",
    "    pairs=[np.zeros((size, h, w,1)) for i in range(2)]\n",
    "    \n",
    "    #initialize vector for the targets\n",
    "    targets=np.zeros((size,))\n",
    "    \n",
    "    for x in range(size):\n",
    "        #randomly sample one class (character)\n",
    "        category = rnd.choice(n_classes,1,replace=False)\n",
    "        #randomly sample one example from class (1-20 characters)\n",
    "        idx_1 = rnd.randint(0, n_examples)\n",
    "        pairs[0][x,:,:,:] = X[category, idx_1].reshape(w, h, 1)\n",
    "        #randomly sample again one example from class and add last class with modulo\n",
    "        # ..to ensure not same class pairs are created\n",
    "        idx_2 = (idx_1 + rnd.randint(0, n_examples)) % n_examples\n",
    "        #pick images of different class for 1st half and same class for 2nd half\n",
    "        if x >= size // 2:\n",
    "            category_2 = category\n",
    "            targets[x] = 1\n",
    "        else: \n",
    "        #add a random number to the category modulo n classes to ensure 2nd image has\n",
    "        # ..different category\n",
    "            idx_2 = rnd.randint(0, n_examples) \n",
    "            category_2 = (category + rnd.randint(1,n_classes)) % n_classes\n",
    "            targets[x] = 0\n",
    "        pairs[1][x,:,:,:] = X[category_2,idx_2].reshape(w, h,1)\n",
    "        \n",
    "    return pairs, targets"
   ]
  },
  {
   "cell_type": "markdown",
   "metadata": {},
   "source": [
    "Create a train- and validation set of 30,000 pairs with 50/50 wrong/good pairs"
   ]
  },
  {
   "cell_type": "code",
   "execution_count": 69,
   "metadata": {
    "collapsed": true,
    "nbpresent": {
     "id": "95a2599b-a0ec-44a9-877d-6e4dbaf1f89b"
    }
   },
   "outputs": [],
   "source": [
    "train_set, train_labels = create_train_data(30000)\n",
    "val_set, val_labels = create_train_data(10000)"
   ]
  },
  {
   "cell_type": "code",
   "execution_count": 73,
   "metadata": {
    "nbpresent": {
     "id": "5702b6da-9377-4bb1-8ef6-c77db08f339f"
    }
   },
   "outputs": [
    {
     "name": "stdout",
     "output_type": "stream",
     "text": [
      "shape first pair train\n",
      "(30000, 105, 105, 1)\n",
      "\n",
      "shape second pair train\n",
      "(30000, 105, 105, 1)\n",
      "\n",
      "shape of labels train\n",
      "(30000,)\n",
      "\n",
      "\n",
      "shape first pair val\n",
      "(10000, 105, 105, 1)\n",
      "\n",
      "shape second pair val\n",
      "(10000, 105, 105, 1)\n",
      "\n",
      "shape of labels val\n",
      "(10000,)\n"
     ]
    }
   ],
   "source": [
    "print('shape first pair train')\n",
    "print(train_set[0].shape)\n",
    "print()\n",
    "print('shape second pair train')\n",
    "print(train_set[1].shape)\n",
    "print()\n",
    "print('shape of labels train')\n",
    "print(train_labels.shape)\n",
    "print()\n",
    "print()\n",
    "print('shape first pair val')\n",
    "print(val_set[0].shape)\n",
    "print()\n",
    "print('shape second pair val')\n",
    "print(val_set[1].shape)\n",
    "print()\n",
    "print('shape of labels val')\n",
    "print(val_labels.shape)"
   ]
  },
  {
   "cell_type": "markdown",
   "metadata": {
    "nbpresent": {
     "id": "fd6da123-bce3-4ea4-85e0-61ba4852a796"
    }
   },
   "source": [
    "Reshape into instances, width, height"
   ]
  },
  {
   "cell_type": "code",
   "execution_count": 74,
   "metadata": {
    "collapsed": true,
    "nbpresent": {
     "id": "5d061a9c-13c1-441c-babe-d8ecfeaa4c25"
    }
   },
   "outputs": [],
   "source": [
    "first = train_set[0].reshape(30000,105,105)\n",
    "second = train_set[1].reshape(30000,105,105)"
   ]
  },
  {
   "cell_type": "markdown",
   "metadata": {
    "nbpresent": {
     "id": "81b99afa-f621-468c-982f-d2541b5d769a"
    }
   },
   "source": [
    "Visualise a pair of images"
   ]
  },
  {
   "cell_type": "code",
   "execution_count": 75,
   "metadata": {
    "nbpresent": {
     "id": "056868b0-25e8-47b3-8e52-398cdd5a28af"
    }
   },
   "outputs": [
    {
     "data": {
      "text/plain": [
       "<matplotlib.image.AxesImage at 0xb1a61fd68>"
      ]
     },
     "execution_count": 75,
     "metadata": {},
     "output_type": "execute_result"
    },
    {
     "data": {
      "image/png": "[encoded data removed]",
      "text/plain": [
       "<Figure size 432x288 with 2 Axes>"
      ]
     },
     "metadata": {},
     "output_type": "display_data"
    }
   ],
   "source": [
    "pair = 2\n",
    "fig,(ax1,ax2) = plt.subplots(2)\n",
    "ax1.matshow(first[pair],cmap='gray')\n",
    "ax2.matshow(second[pair],cmap='gray')"
   ]
  },
  {
   "cell_type": "markdown",
   "metadata": {
    "nbpresent": {
     "id": "363cb7aa-76d1-4155-b937-164ecf9fd233"
    }
   },
   "source": [
    "Generate one N-way set with targets, true image and a set of N characters"
   ]
  },
  {
   "cell_type": "code",
   "execution_count": 5,
   "metadata": {
    "collapsed": true,
    "nbpresent": {
     "id": "80c970c8-1768-498f-b841-a540b886e29b"
    }
   },
   "outputs": [],
   "source": [
    "def generate_oneshot_set(N_way, s='test'):\n",
    "    N = N_way\n",
    "    X=data[s]\n",
    "    n_classes, n_examples, w, h = X.shape\n",
    "    indices = rnd.randint(0,n_examples,size=(N,))\n",
    "    #Get mutually exclusive classes (characters) from test set\n",
    "    categories = rnd.choice(range(n_classes),size=(N,),replace=False)\n",
    "    #Set true image as first indice from chosen classes\n",
    "    true_category = categories[0]\n",
    "    #Generate 2 character places for true image\n",
    "    ex1, ex2 = rnd.choice(n_examples,replace=False,size=(2,))\n",
    "    #Pick test image with true image indice class and one character indice.\n",
    "    # ..multipli array in N_way\n",
    "    test_image = np.asarray([X[true_category,ex1,:,:]]*N).reshape(N, w, h,1)\n",
    "    #Select N_way set from test set with class and character indices\n",
    "    support_set = X[categories,indices,:,:]\n",
    "    #Set first indice as true image, but with ex2 character\n",
    "    # ..this is to make sure both true images are not the same character\n",
    "    support_set[0,:,:] = X[true_category,ex2]\n",
    "    support_set = support_set.reshape(N, w, h,1)\n",
    "    targets = np.zeros((N,))\n",
    "    targets[0] = 1\n",
    "    #Shuffle \n",
    "    targets, test_image, support_set = shuffle(targets, test_image, support_set)\n",
    "    pairs = [test_image,support_set]\n",
    "\n",
    "    return pairs, targets"
   ]
  },
  {
   "cell_type": "code",
   "execution_count": 6,
   "metadata": {
    "collapsed": true
   },
   "outputs": [],
   "source": [
    "pairs, targets = generate_oneshot_set(20,\"train\")"
   ]
  },
  {
   "cell_type": "code",
   "execution_count": 8,
   "metadata": {},
   "outputs": [
    {
     "data": {
      "text/plain": [
       "(20, 105, 105, 1)"
      ]
     },
     "execution_count": 8,
     "metadata": {},
     "output_type": "execute_result"
    }
   ],
   "source": [
    "pairs[1].shape"
   ]
  },
  {
   "cell_type": "code",
   "execution_count": 10,
   "metadata": {},
   "outputs": [
    {
     "data": {
      "text/plain": [
       "array([0., 0., 1., 0., 0., 0., 0., 0., 0., 0., 0., 0., 0., 0., 0., 0., 0.,\n",
       "       0., 0., 0.])"
      ]
     },
     "execution_count": 10,
     "metadata": {},
     "output_type": "execute_result"
    }
   ],
   "source": [
    "targets"
   ]
  },
  {
   "cell_type": "markdown",
   "metadata": {
    "nbpresent": {
     "id": "49177e6f-e871-4418-a01f-9f74ae6489f6"
    }
   },
   "source": [
    "# Apply one-shot 20-way task"
   ]
  },
  {
   "cell_type": "code",
   "execution_count": 119,
   "metadata": {
    "nbpresent": {
     "id": "d9f11e48-f402-495f-b176-3815ec108307"
    }
   },
   "outputs": [
    {
     "data": {
      "image/png": "[encoded data removed]",
      "text/plain": [
       "<Figure size 432x288 with 2 Axes>"
      ]
     },
     "metadata": {},
     "output_type": "display_data"
    },
    {
     "data": {
      "image/png": "[encoded data removed]",
      "text/plain": [
       "<Figure size 720x720 with 1 Axes>"
      ]
     },
     "metadata": {},
     "output_type": "display_data"
    }
   ],
   "source": [
    "def concat_images(X):\n",
    "    \"\"\"Concatenates a bunch of images into a big matrix for plotting purposes.\"\"\"\n",
    "    nc,h,w,_ = X.shape\n",
    "    X = X.reshape(nc,h,w)\n",
    "    n = np.ceil(np.sqrt(nc)).astype(\"int8\")\n",
    "    img = np.zeros((n*w,n*h))\n",
    "    x = 0\n",
    "    y = 0\n",
    "    for example in range(nc):\n",
    "        img[x*w:(x+1)*w,y*h:(y+1)*h] = X[example]\n",
    "        y += 1\n",
    "        if y >= n:\n",
    "            y = 0\n",
    "            x += 1\n",
    "    return img\n",
    "\n",
    "\n",
    "def plot_oneshot_task(pairs):\n",
    "    \"\"\"Takes a one-shot task given to a siamese net and  \"\"\"\n",
    "    fig,(ax1,ax2) = plt.subplots(2)\n",
    "    ax1.matshow(pairs[0][0].reshape(105,105),cmap='gray')\n",
    "    img = concat_images(pairs[1])\n",
    "    ax1.get_yaxis().set_visible(False)\n",
    "    ax1.get_xaxis().set_visible(False)\n",
    "    ax2.matshow(img,cmap='gray')\n",
    "    plt.xticks([])\n",
    "    plt.yticks([])\n",
    "    plt.show()\n",
    "    fig,xx = plt.subplots(figsize=(10,10))\n",
    "    xx.get_yaxis().set_visible(False)\n",
    "    xx.matshow(img,cmap='gray')\n",
    "#example of a one-shot learning task\n",
    "pairs, targets = generate_oneshot_set(20,\"train\")\n",
    "plot_oneshot_task(pairs)"
   ]
  },
  {
   "cell_type": "code",
   "execution_count": null,
   "metadata": {
    "collapsed": true,
    "nbpresent": {
     "id": "81aea940-fd42-4e40-b424-44b41dcfc5c6"
    }
   },
   "outputs": [],
   "source": []
  }
 ],
 "metadata": {
  "kernelspec": {
   "display_name": "Python [conda env:research-paper]",
   "language": "python",
   "name": "conda-env-research-paper-py"
  },
  "language_info": {
   "codemirror_mode": {
    "name": "ipython",
    "version": 3
   },
   "file_extension": ".py",
   "mimetype": "text/x-python",
   "name": "python",
   "nbconvert_exporter": "python",
   "pygments_lexer": "ipython3",
   "version": "3.6.5"
  }
 },
 "nbformat": 4,
 "nbformat_minor": 2
}
